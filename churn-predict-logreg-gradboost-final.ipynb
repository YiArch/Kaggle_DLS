{
 "cells": [
  {
   "cell_type": "markdown",
   "id": "a3873ccc",
   "metadata": {
    "papermill": {
     "duration": 0.027225,
     "end_time": "2022-11-15T14:01:15.152353",
     "exception": false,
     "start_time": "2022-11-15T14:01:15.125128",
     "status": "completed"
    },
    "tags": []
   },
   "source": [
    "#### Kaggle username - YiArch, team name - Александр_Ким"
   ]
  },
  {
   "cell_type": "code",
   "execution_count": 1,
   "id": "8cc996fe",
   "metadata": {
    "ExecuteTime": {
     "end_time": "2022-11-13T13:00:44.121701Z",
     "start_time": "2022-11-13T13:00:38.949959Z"
    },
    "execution": {
     "iopub.execute_input": "2022-11-15T14:01:15.198399Z",
     "iopub.status.busy": "2022-11-15T14:01:15.197901Z",
     "iopub.status.idle": "2022-11-15T14:01:17.044621Z",
     "shell.execute_reply": "2022-11-15T14:01:17.043628Z"
    },
    "papermill": {
     "duration": 1.873359,
     "end_time": "2022-11-15T14:01:17.047837",
     "exception": false,
     "start_time": "2022-11-15T14:01:15.174478",
     "status": "completed"
    },
    "tags": []
   },
   "outputs": [],
   "source": [
    "import os\n",
    "import pandas as pd\n",
    "import numpy as np\n",
    "import matplotlib.pyplot as plt\n",
    "import seaborn as sns\n",
    "\n",
    "from sklearn.preprocessing import StandardScaler, RobustScaler, OneHotEncoder, SplineTransformer\n",
    "from sklearn.pipeline import Pipeline, make_pipeline\n",
    "from sklearn.compose import ColumnTransformer\n",
    "from sklearn.linear_model import LogisticRegression, LogisticRegressionCV, ElasticNet\n",
    "from sklearn.neighbors import KNeighborsClassifier\n",
    "from sklearn.ensemble import GradientBoostingClassifier\n",
    "from sklearn.tree import DecisionTreeClassifier\n",
    "from sklearn.model_selection import train_test_split, GridSearchCV\n",
    "from sklearn.metrics import roc_auc_score\n",
    "\n",
    "from catboost import CatBoostClassifier\n",
    "from xgboost import XGBClassifier"
   ]
  },
  {
   "cell_type": "code",
   "execution_count": 2,
   "id": "86882c1f",
   "metadata": {
    "execution": {
     "iopub.execute_input": "2022-11-15T14:01:17.094960Z",
     "iopub.status.busy": "2022-11-15T14:01:17.094174Z",
     "iopub.status.idle": "2022-11-15T14:01:17.099521Z",
     "shell.execute_reply": "2022-11-15T14:01:17.098775Z"
    },
    "papermill": {
     "duration": 0.031387,
     "end_time": "2022-11-15T14:01:17.101777",
     "exception": false,
     "start_time": "2022-11-15T14:01:17.070390",
     "status": "completed"
    },
    "tags": []
   },
   "outputs": [],
   "source": [
    "rs = 42\n",
    "np.random.seed(rs)\n",
    "os.environ['PYTHONHASHSEED'] = str(rs)"
   ]
  },
  {
   "cell_type": "markdown",
   "id": "730fca46",
   "metadata": {
    "papermill": {
     "duration": 0.022244,
     "end_time": "2022-11-15T14:01:17.145913",
     "exception": false,
     "start_time": "2022-11-15T14:01:17.123669",
     "status": "completed"
    },
    "tags": []
   },
   "source": [
    "# 1. Exploration"
   ]
  },
  {
   "cell_type": "markdown",
   "id": "8bfac924",
   "metadata": {
    "papermill": {
     "duration": 0.021996,
     "end_time": "2022-11-15T14:01:17.190063",
     "exception": false,
     "start_time": "2022-11-15T14:01:17.168067",
     "status": "completed"
    },
    "tags": []
   },
   "source": [
    "## *1.1. Loading data*"
   ]
  },
  {
   "cell_type": "code",
   "execution_count": 3,
   "id": "8e00a892",
   "metadata": {
    "execution": {
     "iopub.execute_input": "2022-11-15T14:01:17.237980Z",
     "iopub.status.busy": "2022-11-15T14:01:17.237540Z",
     "iopub.status.idle": "2022-11-15T14:01:17.242396Z",
     "shell.execute_reply": "2022-11-15T14:01:17.241176Z"
    },
    "papermill": {
     "duration": 0.030898,
     "end_time": "2022-11-15T14:01:17.244753",
     "exception": false,
     "start_time": "2022-11-15T14:01:17.213855",
     "status": "completed"
    },
    "tags": []
   },
   "outputs": [],
   "source": [
    "input_path= \"/kaggle/input/advanced-dls-spring-2021/\""
   ]
  },
  {
   "cell_type": "code",
   "execution_count": 4,
   "id": "734e2fa2",
   "metadata": {
    "ExecuteTime": {
     "end_time": "2022-11-13T13:00:44.158668Z",
     "start_time": "2022-11-13T13:00:44.127002Z"
    },
    "execution": {
     "iopub.execute_input": "2022-11-15T14:01:17.290650Z",
     "iopub.status.busy": "2022-11-15T14:01:17.289682Z",
     "iopub.status.idle": "2022-11-15T14:01:17.358657Z",
     "shell.execute_reply": "2022-11-15T14:01:17.357626Z"
    },
    "papermill": {
     "duration": 0.094888,
     "end_time": "2022-11-15T14:01:17.361443",
     "exception": false,
     "start_time": "2022-11-15T14:01:17.266555",
     "status": "completed"
    },
    "tags": []
   },
   "outputs": [],
   "source": [
    "# Two datasets for analysis and trials\n",
    "data = pd.read_csv(input_path + 'train.csv')\n",
    "test_data = pd.read_csv(input_path + 'test.csv')"
   ]
  },
  {
   "cell_type": "code",
   "execution_count": 5,
   "id": "7d2a222f",
   "metadata": {
    "ExecuteTime": {
     "end_time": "2022-11-13T13:00:44.403162Z",
     "start_time": "2022-11-13T13:00:44.161907Z"
    },
    "execution": {
     "iopub.execute_input": "2022-11-15T14:01:17.408623Z",
     "iopub.status.busy": "2022-11-15T14:01:17.407804Z",
     "iopub.status.idle": "2022-11-15T14:01:17.441764Z",
     "shell.execute_reply": "2022-11-15T14:01:17.440622Z"
    },
    "papermill": {
     "duration": 0.060946,
     "end_time": "2022-11-15T14:01:17.445486",
     "exception": false,
     "start_time": "2022-11-15T14:01:17.384540",
     "status": "completed"
    },
    "scrolled": true,
    "tags": []
   },
   "outputs": [
    {
     "data": {
      "text/html": [
       "<div>\n",
       "<style scoped>\n",
       "    .dataframe tbody tr th:only-of-type {\n",
       "        vertical-align: middle;\n",
       "    }\n",
       "\n",
       "    .dataframe tbody tr th {\n",
       "        vertical-align: top;\n",
       "    }\n",
       "\n",
       "    .dataframe thead th {\n",
       "        text-align: right;\n",
       "    }\n",
       "</style>\n",
       "<table border=\"1\" class=\"dataframe\">\n",
       "  <thead>\n",
       "    <tr style=\"text-align: right;\">\n",
       "      <th></th>\n",
       "      <th>ClientPeriod</th>\n",
       "      <th>MonthlySpending</th>\n",
       "      <th>TotalSpent</th>\n",
       "      <th>Sex</th>\n",
       "      <th>IsSeniorCitizen</th>\n",
       "      <th>HasPartner</th>\n",
       "      <th>HasChild</th>\n",
       "      <th>HasPhoneService</th>\n",
       "      <th>HasMultiplePhoneNumbers</th>\n",
       "      <th>HasInternetService</th>\n",
       "      <th>HasOnlineSecurityService</th>\n",
       "      <th>HasOnlineBackup</th>\n",
       "      <th>HasDeviceProtection</th>\n",
       "      <th>HasTechSupportAccess</th>\n",
       "      <th>HasOnlineTV</th>\n",
       "      <th>HasMovieSubscription</th>\n",
       "      <th>HasContractPhone</th>\n",
       "      <th>IsBillingPaperless</th>\n",
       "      <th>PaymentMethod</th>\n",
       "      <th>Churn</th>\n",
       "    </tr>\n",
       "  </thead>\n",
       "  <tbody>\n",
       "    <tr>\n",
       "      <th>1448</th>\n",
       "      <td>9</td>\n",
       "      <td>45.40</td>\n",
       "      <td>418.8</td>\n",
       "      <td>Male</td>\n",
       "      <td>0</td>\n",
       "      <td>No</td>\n",
       "      <td>No</td>\n",
       "      <td>No</td>\n",
       "      <td>No phone service</td>\n",
       "      <td>DSL</td>\n",
       "      <td>No</td>\n",
       "      <td>No</td>\n",
       "      <td>No</td>\n",
       "      <td>No</td>\n",
       "      <td>Yes</td>\n",
       "      <td>Yes</td>\n",
       "      <td>Month-to-month</td>\n",
       "      <td>Yes</td>\n",
       "      <td>Electronic check</td>\n",
       "      <td>1</td>\n",
       "    </tr>\n",
       "    <tr>\n",
       "      <th>4792</th>\n",
       "      <td>37</td>\n",
       "      <td>70.35</td>\n",
       "      <td>2552.9</td>\n",
       "      <td>Male</td>\n",
       "      <td>0</td>\n",
       "      <td>No</td>\n",
       "      <td>No</td>\n",
       "      <td>Yes</td>\n",
       "      <td>No</td>\n",
       "      <td>Fiber optic</td>\n",
       "      <td>No</td>\n",
       "      <td>No</td>\n",
       "      <td>No</td>\n",
       "      <td>No</td>\n",
       "      <td>No</td>\n",
       "      <td>No</td>\n",
       "      <td>Month-to-month</td>\n",
       "      <td>Yes</td>\n",
       "      <td>Mailed check</td>\n",
       "      <td>0</td>\n",
       "    </tr>\n",
       "    <tr>\n",
       "      <th>8</th>\n",
       "      <td>50</td>\n",
       "      <td>105.95</td>\n",
       "      <td>5341.8</td>\n",
       "      <td>Male</td>\n",
       "      <td>0</td>\n",
       "      <td>Yes</td>\n",
       "      <td>Yes</td>\n",
       "      <td>Yes</td>\n",
       "      <td>Yes</td>\n",
       "      <td>Fiber optic</td>\n",
       "      <td>Yes</td>\n",
       "      <td>No</td>\n",
       "      <td>Yes</td>\n",
       "      <td>No</td>\n",
       "      <td>Yes</td>\n",
       "      <td>Yes</td>\n",
       "      <td>Month-to-month</td>\n",
       "      <td>No</td>\n",
       "      <td>Credit card (automatic)</td>\n",
       "      <td>1</td>\n",
       "    </tr>\n",
       "    <tr>\n",
       "      <th>3964</th>\n",
       "      <td>44</td>\n",
       "      <td>100.10</td>\n",
       "      <td>4378.35</td>\n",
       "      <td>Male</td>\n",
       "      <td>0</td>\n",
       "      <td>No</td>\n",
       "      <td>No</td>\n",
       "      <td>Yes</td>\n",
       "      <td>No</td>\n",
       "      <td>Fiber optic</td>\n",
       "      <td>No</td>\n",
       "      <td>No</td>\n",
       "      <td>Yes</td>\n",
       "      <td>Yes</td>\n",
       "      <td>Yes</td>\n",
       "      <td>Yes</td>\n",
       "      <td>Two year</td>\n",
       "      <td>No</td>\n",
       "      <td>Bank transfer (automatic)</td>\n",
       "      <td>0</td>\n",
       "    </tr>\n",
       "    <tr>\n",
       "      <th>240</th>\n",
       "      <td>25</td>\n",
       "      <td>20.95</td>\n",
       "      <td>495.15</td>\n",
       "      <td>Male</td>\n",
       "      <td>0</td>\n",
       "      <td>Yes</td>\n",
       "      <td>No</td>\n",
       "      <td>Yes</td>\n",
       "      <td>No</td>\n",
       "      <td>No</td>\n",
       "      <td>No internet service</td>\n",
       "      <td>No internet service</td>\n",
       "      <td>No internet service</td>\n",
       "      <td>No internet service</td>\n",
       "      <td>No internet service</td>\n",
       "      <td>No internet service</td>\n",
       "      <td>One year</td>\n",
       "      <td>Yes</td>\n",
       "      <td>Bank transfer (automatic)</td>\n",
       "      <td>0</td>\n",
       "    </tr>\n",
       "    <tr>\n",
       "      <th>1942</th>\n",
       "      <td>39</td>\n",
       "      <td>50.75</td>\n",
       "      <td>2011.4</td>\n",
       "      <td>Female</td>\n",
       "      <td>0</td>\n",
       "      <td>No</td>\n",
       "      <td>No</td>\n",
       "      <td>No</td>\n",
       "      <td>No phone service</td>\n",
       "      <td>DSL</td>\n",
       "      <td>No</td>\n",
       "      <td>No</td>\n",
       "      <td>Yes</td>\n",
       "      <td>No</td>\n",
       "      <td>Yes</td>\n",
       "      <td>Yes</td>\n",
       "      <td>Month-to-month</td>\n",
       "      <td>Yes</td>\n",
       "      <td>Electronic check</td>\n",
       "      <td>1</td>\n",
       "    </tr>\n",
       "    <tr>\n",
       "      <th>1859</th>\n",
       "      <td>52</td>\n",
       "      <td>79.20</td>\n",
       "      <td>4016.3</td>\n",
       "      <td>Male</td>\n",
       "      <td>0</td>\n",
       "      <td>Yes</td>\n",
       "      <td>Yes</td>\n",
       "      <td>Yes</td>\n",
       "      <td>No</td>\n",
       "      <td>DSL</td>\n",
       "      <td>Yes</td>\n",
       "      <td>Yes</td>\n",
       "      <td>Yes</td>\n",
       "      <td>No</td>\n",
       "      <td>Yes</td>\n",
       "      <td>Yes</td>\n",
       "      <td>Two year</td>\n",
       "      <td>No</td>\n",
       "      <td>Electronic check</td>\n",
       "      <td>0</td>\n",
       "    </tr>\n",
       "    <tr>\n",
       "      <th>2348</th>\n",
       "      <td>1</td>\n",
       "      <td>74.40</td>\n",
       "      <td>74.4</td>\n",
       "      <td>Male</td>\n",
       "      <td>1</td>\n",
       "      <td>Yes</td>\n",
       "      <td>No</td>\n",
       "      <td>Yes</td>\n",
       "      <td>Yes</td>\n",
       "      <td>Fiber optic</td>\n",
       "      <td>No</td>\n",
       "      <td>No</td>\n",
       "      <td>No</td>\n",
       "      <td>No</td>\n",
       "      <td>No</td>\n",
       "      <td>No</td>\n",
       "      <td>Month-to-month</td>\n",
       "      <td>Yes</td>\n",
       "      <td>Electronic check</td>\n",
       "      <td>1</td>\n",
       "    </tr>\n",
       "    <tr>\n",
       "      <th>2280</th>\n",
       "      <td>6</td>\n",
       "      <td>50.80</td>\n",
       "      <td>288.05</td>\n",
       "      <td>Female</td>\n",
       "      <td>0</td>\n",
       "      <td>No</td>\n",
       "      <td>No</td>\n",
       "      <td>Yes</td>\n",
       "      <td>No</td>\n",
       "      <td>DSL</td>\n",
       "      <td>No</td>\n",
       "      <td>No</td>\n",
       "      <td>No</td>\n",
       "      <td>Yes</td>\n",
       "      <td>No</td>\n",
       "      <td>No</td>\n",
       "      <td>Month-to-month</td>\n",
       "      <td>Yes</td>\n",
       "      <td>Bank transfer (automatic)</td>\n",
       "      <td>1</td>\n",
       "    </tr>\n",
       "    <tr>\n",
       "      <th>733</th>\n",
       "      <td>21</td>\n",
       "      <td>68.65</td>\n",
       "      <td>1493.2</td>\n",
       "      <td>Female</td>\n",
       "      <td>0</td>\n",
       "      <td>No</td>\n",
       "      <td>No</td>\n",
       "      <td>Yes</td>\n",
       "      <td>No</td>\n",
       "      <td>Fiber optic</td>\n",
       "      <td>No</td>\n",
       "      <td>No</td>\n",
       "      <td>No</td>\n",
       "      <td>No</td>\n",
       "      <td>No</td>\n",
       "      <td>No</td>\n",
       "      <td>Month-to-month</td>\n",
       "      <td>Yes</td>\n",
       "      <td>Electronic check</td>\n",
       "      <td>0</td>\n",
       "    </tr>\n",
       "  </tbody>\n",
       "</table>\n",
       "</div>"
      ],
      "text/plain": [
       "      ClientPeriod  MonthlySpending TotalSpent     Sex  IsSeniorCitizen  \\\n",
       "1448             9            45.40      418.8    Male                0   \n",
       "4792            37            70.35     2552.9    Male                0   \n",
       "8               50           105.95     5341.8    Male                0   \n",
       "3964            44           100.10    4378.35    Male                0   \n",
       "240             25            20.95     495.15    Male                0   \n",
       "1942            39            50.75     2011.4  Female                0   \n",
       "1859            52            79.20     4016.3    Male                0   \n",
       "2348             1            74.40       74.4    Male                1   \n",
       "2280             6            50.80     288.05  Female                0   \n",
       "733             21            68.65     1493.2  Female                0   \n",
       "\n",
       "     HasPartner HasChild HasPhoneService HasMultiplePhoneNumbers  \\\n",
       "1448         No       No              No        No phone service   \n",
       "4792         No       No             Yes                      No   \n",
       "8           Yes      Yes             Yes                     Yes   \n",
       "3964         No       No             Yes                      No   \n",
       "240         Yes       No             Yes                      No   \n",
       "1942         No       No              No        No phone service   \n",
       "1859        Yes      Yes             Yes                      No   \n",
       "2348        Yes       No             Yes                     Yes   \n",
       "2280         No       No             Yes                      No   \n",
       "733          No       No             Yes                      No   \n",
       "\n",
       "     HasInternetService HasOnlineSecurityService      HasOnlineBackup  \\\n",
       "1448                DSL                       No                   No   \n",
       "4792        Fiber optic                       No                   No   \n",
       "8           Fiber optic                      Yes                   No   \n",
       "3964        Fiber optic                       No                   No   \n",
       "240                  No      No internet service  No internet service   \n",
       "1942                DSL                       No                   No   \n",
       "1859                DSL                      Yes                  Yes   \n",
       "2348        Fiber optic                       No                   No   \n",
       "2280                DSL                       No                   No   \n",
       "733         Fiber optic                       No                   No   \n",
       "\n",
       "      HasDeviceProtection HasTechSupportAccess          HasOnlineTV  \\\n",
       "1448                   No                   No                  Yes   \n",
       "4792                   No                   No                   No   \n",
       "8                     Yes                   No                  Yes   \n",
       "3964                  Yes                  Yes                  Yes   \n",
       "240   No internet service  No internet service  No internet service   \n",
       "1942                  Yes                   No                  Yes   \n",
       "1859                  Yes                   No                  Yes   \n",
       "2348                   No                   No                   No   \n",
       "2280                   No                  Yes                   No   \n",
       "733                    No                   No                   No   \n",
       "\n",
       "     HasMovieSubscription HasContractPhone IsBillingPaperless  \\\n",
       "1448                  Yes   Month-to-month                Yes   \n",
       "4792                   No   Month-to-month                Yes   \n",
       "8                     Yes   Month-to-month                 No   \n",
       "3964                  Yes         Two year                 No   \n",
       "240   No internet service         One year                Yes   \n",
       "1942                  Yes   Month-to-month                Yes   \n",
       "1859                  Yes         Two year                 No   \n",
       "2348                   No   Month-to-month                Yes   \n",
       "2280                   No   Month-to-month                Yes   \n",
       "733                    No   Month-to-month                Yes   \n",
       "\n",
       "                  PaymentMethod  Churn  \n",
       "1448           Electronic check      1  \n",
       "4792               Mailed check      0  \n",
       "8       Credit card (automatic)      1  \n",
       "3964  Bank transfer (automatic)      0  \n",
       "240   Bank transfer (automatic)      0  \n",
       "1942           Electronic check      1  \n",
       "1859           Electronic check      0  \n",
       "2348           Electronic check      1  \n",
       "2280  Bank transfer (automatic)      1  \n",
       "733            Electronic check      0  "
      ]
     },
     "execution_count": 5,
     "metadata": {},
     "output_type": "execute_result"
    }
   ],
   "source": [
    "# Some random strings\n",
    "\n",
    "data.sample(10)"
   ]
  },
  {
   "cell_type": "code",
   "execution_count": 6,
   "id": "92c46ccc",
   "metadata": {
    "ExecuteTime": {
     "end_time": "2022-11-13T13:00:45.146411Z",
     "start_time": "2022-11-13T13:00:45.141889Z"
    },
    "execution": {
     "iopub.execute_input": "2022-11-15T14:01:17.493001Z",
     "iopub.status.busy": "2022-11-15T14:01:17.492590Z",
     "iopub.status.idle": "2022-11-15T14:01:17.498923Z",
     "shell.execute_reply": "2022-11-15T14:01:17.497808Z"
    },
    "papermill": {
     "duration": 0.032958,
     "end_time": "2022-11-15T14:01:17.501260",
     "exception": false,
     "start_time": "2022-11-15T14:01:17.468302",
     "status": "completed"
    },
    "tags": []
   },
   "outputs": [],
   "source": [
    "# Numerical features\n",
    "\n",
    "num_cols = [\n",
    "    'ClientPeriod',\n",
    "    'MonthlySpending',\n",
    "    'TotalSpent'\n",
    "]\n",
    "\n",
    "# Categorical features\n",
    "\n",
    "cat_cols = [\n",
    "    'Sex',\n",
    "    'IsSeniorCitizen',\n",
    "    'HasPartner',\n",
    "    'HasChild',\n",
    "    'HasPhoneService',\n",
    "    'HasMultiplePhoneNumbers',\n",
    "    'HasInternetService',\n",
    "    'HasOnlineSecurityService',\n",
    "    'HasOnlineBackup',\n",
    "    'HasDeviceProtection',\n",
    "    'HasTechSupportAccess',\n",
    "    'HasOnlineTV',\n",
    "    'HasMovieSubscription',\n",
    "    'HasContractPhone',\n",
    "    'IsBillingPaperless',\n",
    "    'PaymentMethod'\n",
    "]\n",
    "\n",
    "feature_cols = num_cols + cat_cols\n",
    "target_col = 'Churn'"
   ]
  },
  {
   "cell_type": "code",
   "execution_count": 7,
   "id": "86125150",
   "metadata": {
    "ExecuteTime": {
     "end_time": "2022-11-13T13:00:45.890539Z",
     "start_time": "2022-11-13T13:00:45.885755Z"
    },
    "execution": {
     "iopub.execute_input": "2022-11-15T14:01:17.549208Z",
     "iopub.status.busy": "2022-11-15T14:01:17.548788Z",
     "iopub.status.idle": "2022-11-15T14:01:17.555441Z",
     "shell.execute_reply": "2022-11-15T14:01:17.554390Z"
    },
    "papermill": {
     "duration": 0.03381,
     "end_time": "2022-11-15T14:01:17.557841",
     "exception": false,
     "start_time": "2022-11-15T14:01:17.524031",
     "status": "completed"
    },
    "tags": []
   },
   "outputs": [
    {
     "data": {
      "text/plain": [
       "(5282, 20)"
      ]
     },
     "execution_count": 7,
     "metadata": {},
     "output_type": "execute_result"
    }
   ],
   "source": [
    "data.shape"
   ]
  },
  {
   "cell_type": "markdown",
   "id": "6c8a68d4",
   "metadata": {
    "ExecuteTime": {
     "end_time": "2022-11-03T14:04:21.758955Z",
     "start_time": "2022-11-03T14:04:21.756387Z"
    },
    "papermill": {
     "duration": 0.022088,
     "end_time": "2022-11-15T14:01:17.602697",
     "exception": false,
     "start_time": "2022-11-15T14:01:17.580609",
     "status": "completed"
    },
    "tags": []
   },
   "source": [
    "## *1.2. Check for null values and empty cells*"
   ]
  },
  {
   "cell_type": "code",
   "execution_count": 8,
   "id": "8b8c761e",
   "metadata": {
    "ExecuteTime": {
     "end_time": "2022-11-13T13:00:46.536187Z",
     "start_time": "2022-11-13T13:00:46.509065Z"
    },
    "execution": {
     "iopub.execute_input": "2022-11-15T14:01:17.649365Z",
     "iopub.status.busy": "2022-11-15T14:01:17.648985Z",
     "iopub.status.idle": "2022-11-15T14:01:17.677459Z",
     "shell.execute_reply": "2022-11-15T14:01:17.675725Z"
    },
    "papermill": {
     "duration": 0.0558,
     "end_time": "2022-11-15T14:01:17.680949",
     "exception": false,
     "start_time": "2022-11-15T14:01:17.625149",
     "status": "completed"
    },
    "scrolled": true,
    "tags": []
   },
   "outputs": [
    {
     "name": "stdout",
     "output_type": "stream",
     "text": [
      "<class 'pandas.core.frame.DataFrame'>\n",
      "RangeIndex: 5282 entries, 0 to 5281\n",
      "Data columns (total 20 columns):\n",
      " #   Column                    Non-Null Count  Dtype  \n",
      "---  ------                    --------------  -----  \n",
      " 0   ClientPeriod              5282 non-null   int64  \n",
      " 1   MonthlySpending           5282 non-null   float64\n",
      " 2   TotalSpent                5282 non-null   object \n",
      " 3   Sex                       5282 non-null   object \n",
      " 4   IsSeniorCitizen           5282 non-null   int64  \n",
      " 5   HasPartner                5282 non-null   object \n",
      " 6   HasChild                  5282 non-null   object \n",
      " 7   HasPhoneService           5282 non-null   object \n",
      " 8   HasMultiplePhoneNumbers   5282 non-null   object \n",
      " 9   HasInternetService        5282 non-null   object \n",
      " 10  HasOnlineSecurityService  5282 non-null   object \n",
      " 11  HasOnlineBackup           5282 non-null   object \n",
      " 12  HasDeviceProtection       5282 non-null   object \n",
      " 13  HasTechSupportAccess      5282 non-null   object \n",
      " 14  HasOnlineTV               5282 non-null   object \n",
      " 15  HasMovieSubscription      5282 non-null   object \n",
      " 16  HasContractPhone          5282 non-null   object \n",
      " 17  IsBillingPaperless        5282 non-null   object \n",
      " 18  PaymentMethod             5282 non-null   object \n",
      " 19  Churn                     5282 non-null   int64  \n",
      "dtypes: float64(1), int64(3), object(16)\n",
      "memory usage: 825.4+ KB\n"
     ]
    }
   ],
   "source": [
    "# Check whether the dataframe has null values\n",
    "\n",
    "data.info()"
   ]
  },
  {
   "cell_type": "code",
   "execution_count": 9,
   "id": "2bb8acb8",
   "metadata": {
    "ExecuteTime": {
     "end_time": "2022-11-13T13:00:46.743392Z",
     "start_time": "2022-11-13T13:00:46.709494Z"
    },
    "execution": {
     "iopub.execute_input": "2022-11-15T14:01:17.742676Z",
     "iopub.status.busy": "2022-11-15T14:01:17.742290Z",
     "iopub.status.idle": "2022-11-15T14:01:17.785823Z",
     "shell.execute_reply": "2022-11-15T14:01:17.784706Z"
    },
    "papermill": {
     "duration": 0.077398,
     "end_time": "2022-11-15T14:01:17.788254",
     "exception": false,
     "start_time": "2022-11-15T14:01:17.710856",
     "status": "completed"
    },
    "scrolled": true,
    "tags": []
   },
   "outputs": [
    {
     "data": {
      "text/plain": [
       "(array([1048, 1707, 2543, 3078, 3697, 4002, 4326, 4551, 4598]),\n",
       " array([2, 2, 2, 2, 2, 2, 2, 2, 2]))"
      ]
     },
     "execution_count": 9,
     "metadata": {},
     "output_type": "execute_result"
    }
   ],
   "source": [
    "# Check for empty values\n",
    "\n",
    "np.where(data.applymap(lambda x: x == ' '))"
   ]
  },
  {
   "cell_type": "markdown",
   "id": "0a1c2711",
   "metadata": {
    "papermill": {
     "duration": 0.022789,
     "end_time": "2022-11-15T14:01:17.834316",
     "exception": false,
     "start_time": "2022-11-15T14:01:17.811527",
     "status": "completed"
    },
    "tags": []
   },
   "source": [
    "We have 9 empty cells in *TotalSpent* column."
   ]
  },
  {
   "cell_type": "code",
   "execution_count": 10,
   "id": "f6284d34",
   "metadata": {
    "ExecuteTime": {
     "end_time": "2022-11-13T13:00:47.460779Z",
     "start_time": "2022-11-13T13:00:47.437541Z"
    },
    "execution": {
     "iopub.execute_input": "2022-11-15T14:01:17.881823Z",
     "iopub.status.busy": "2022-11-15T14:01:17.881444Z",
     "iopub.status.idle": "2022-11-15T14:01:17.906830Z",
     "shell.execute_reply": "2022-11-15T14:01:17.905752Z"
    },
    "papermill": {
     "duration": 0.0518,
     "end_time": "2022-11-15T14:01:17.909036",
     "exception": false,
     "start_time": "2022-11-15T14:01:17.857236",
     "status": "completed"
    },
    "scrolled": true,
    "tags": []
   },
   "outputs": [
    {
     "data": {
      "text/html": [
       "<div>\n",
       "<style scoped>\n",
       "    .dataframe tbody tr th:only-of-type {\n",
       "        vertical-align: middle;\n",
       "    }\n",
       "\n",
       "    .dataframe tbody tr th {\n",
       "        vertical-align: top;\n",
       "    }\n",
       "\n",
       "    .dataframe thead th {\n",
       "        text-align: right;\n",
       "    }\n",
       "</style>\n",
       "<table border=\"1\" class=\"dataframe\">\n",
       "  <thead>\n",
       "    <tr style=\"text-align: right;\">\n",
       "      <th></th>\n",
       "      <th>ClientPeriod</th>\n",
       "      <th>MonthlySpending</th>\n",
       "      <th>TotalSpent</th>\n",
       "      <th>Sex</th>\n",
       "      <th>IsSeniorCitizen</th>\n",
       "      <th>HasPartner</th>\n",
       "      <th>HasChild</th>\n",
       "      <th>HasPhoneService</th>\n",
       "      <th>HasMultiplePhoneNumbers</th>\n",
       "      <th>HasInternetService</th>\n",
       "      <th>HasOnlineSecurityService</th>\n",
       "      <th>HasOnlineBackup</th>\n",
       "      <th>HasDeviceProtection</th>\n",
       "      <th>HasTechSupportAccess</th>\n",
       "      <th>HasOnlineTV</th>\n",
       "      <th>HasMovieSubscription</th>\n",
       "      <th>HasContractPhone</th>\n",
       "      <th>IsBillingPaperless</th>\n",
       "      <th>PaymentMethod</th>\n",
       "      <th>Churn</th>\n",
       "    </tr>\n",
       "  </thead>\n",
       "  <tbody>\n",
       "    <tr>\n",
       "      <th>1048</th>\n",
       "      <td>0</td>\n",
       "      <td>25.75</td>\n",
       "      <td></td>\n",
       "      <td>Male</td>\n",
       "      <td>0</td>\n",
       "      <td>Yes</td>\n",
       "      <td>Yes</td>\n",
       "      <td>Yes</td>\n",
       "      <td>Yes</td>\n",
       "      <td>No</td>\n",
       "      <td>No internet service</td>\n",
       "      <td>No internet service</td>\n",
       "      <td>No internet service</td>\n",
       "      <td>No internet service</td>\n",
       "      <td>No internet service</td>\n",
       "      <td>No internet service</td>\n",
       "      <td>Two year</td>\n",
       "      <td>No</td>\n",
       "      <td>Mailed check</td>\n",
       "      <td>0</td>\n",
       "    </tr>\n",
       "    <tr>\n",
       "      <th>1707</th>\n",
       "      <td>0</td>\n",
       "      <td>73.35</td>\n",
       "      <td></td>\n",
       "      <td>Female</td>\n",
       "      <td>0</td>\n",
       "      <td>Yes</td>\n",
       "      <td>Yes</td>\n",
       "      <td>Yes</td>\n",
       "      <td>Yes</td>\n",
       "      <td>DSL</td>\n",
       "      <td>No</td>\n",
       "      <td>Yes</td>\n",
       "      <td>Yes</td>\n",
       "      <td>Yes</td>\n",
       "      <td>Yes</td>\n",
       "      <td>No</td>\n",
       "      <td>Two year</td>\n",
       "      <td>No</td>\n",
       "      <td>Mailed check</td>\n",
       "      <td>0</td>\n",
       "    </tr>\n",
       "    <tr>\n",
       "      <th>2543</th>\n",
       "      <td>0</td>\n",
       "      <td>19.70</td>\n",
       "      <td></td>\n",
       "      <td>Male</td>\n",
       "      <td>0</td>\n",
       "      <td>Yes</td>\n",
       "      <td>Yes</td>\n",
       "      <td>Yes</td>\n",
       "      <td>No</td>\n",
       "      <td>No</td>\n",
       "      <td>No internet service</td>\n",
       "      <td>No internet service</td>\n",
       "      <td>No internet service</td>\n",
       "      <td>No internet service</td>\n",
       "      <td>No internet service</td>\n",
       "      <td>No internet service</td>\n",
       "      <td>One year</td>\n",
       "      <td>Yes</td>\n",
       "      <td>Mailed check</td>\n",
       "      <td>0</td>\n",
       "    </tr>\n",
       "    <tr>\n",
       "      <th>3078</th>\n",
       "      <td>0</td>\n",
       "      <td>80.85</td>\n",
       "      <td></td>\n",
       "      <td>Female</td>\n",
       "      <td>0</td>\n",
       "      <td>Yes</td>\n",
       "      <td>Yes</td>\n",
       "      <td>Yes</td>\n",
       "      <td>No</td>\n",
       "      <td>DSL</td>\n",
       "      <td>Yes</td>\n",
       "      <td>Yes</td>\n",
       "      <td>Yes</td>\n",
       "      <td>No</td>\n",
       "      <td>Yes</td>\n",
       "      <td>Yes</td>\n",
       "      <td>Two year</td>\n",
       "      <td>No</td>\n",
       "      <td>Mailed check</td>\n",
       "      <td>0</td>\n",
       "    </tr>\n",
       "    <tr>\n",
       "      <th>3697</th>\n",
       "      <td>0</td>\n",
       "      <td>20.00</td>\n",
       "      <td></td>\n",
       "      <td>Female</td>\n",
       "      <td>0</td>\n",
       "      <td>Yes</td>\n",
       "      <td>Yes</td>\n",
       "      <td>Yes</td>\n",
       "      <td>No</td>\n",
       "      <td>No</td>\n",
       "      <td>No internet service</td>\n",
       "      <td>No internet service</td>\n",
       "      <td>No internet service</td>\n",
       "      <td>No internet service</td>\n",
       "      <td>No internet service</td>\n",
       "      <td>No internet service</td>\n",
       "      <td>Two year</td>\n",
       "      <td>No</td>\n",
       "      <td>Mailed check</td>\n",
       "      <td>0</td>\n",
       "    </tr>\n",
       "    <tr>\n",
       "      <th>4002</th>\n",
       "      <td>0</td>\n",
       "      <td>61.90</td>\n",
       "      <td></td>\n",
       "      <td>Male</td>\n",
       "      <td>0</td>\n",
       "      <td>No</td>\n",
       "      <td>Yes</td>\n",
       "      <td>Yes</td>\n",
       "      <td>Yes</td>\n",
       "      <td>DSL</td>\n",
       "      <td>Yes</td>\n",
       "      <td>Yes</td>\n",
       "      <td>No</td>\n",
       "      <td>Yes</td>\n",
       "      <td>No</td>\n",
       "      <td>No</td>\n",
       "      <td>Two year</td>\n",
       "      <td>Yes</td>\n",
       "      <td>Bank transfer (automatic)</td>\n",
       "      <td>0</td>\n",
       "    </tr>\n",
       "    <tr>\n",
       "      <th>4326</th>\n",
       "      <td>0</td>\n",
       "      <td>25.35</td>\n",
       "      <td></td>\n",
       "      <td>Male</td>\n",
       "      <td>0</td>\n",
       "      <td>Yes</td>\n",
       "      <td>Yes</td>\n",
       "      <td>Yes</td>\n",
       "      <td>Yes</td>\n",
       "      <td>No</td>\n",
       "      <td>No internet service</td>\n",
       "      <td>No internet service</td>\n",
       "      <td>No internet service</td>\n",
       "      <td>No internet service</td>\n",
       "      <td>No internet service</td>\n",
       "      <td>No internet service</td>\n",
       "      <td>Two year</td>\n",
       "      <td>No</td>\n",
       "      <td>Mailed check</td>\n",
       "      <td>0</td>\n",
       "    </tr>\n",
       "    <tr>\n",
       "      <th>4551</th>\n",
       "      <td>0</td>\n",
       "      <td>52.55</td>\n",
       "      <td></td>\n",
       "      <td>Female</td>\n",
       "      <td>0</td>\n",
       "      <td>Yes</td>\n",
       "      <td>Yes</td>\n",
       "      <td>No</td>\n",
       "      <td>No phone service</td>\n",
       "      <td>DSL</td>\n",
       "      <td>Yes</td>\n",
       "      <td>No</td>\n",
       "      <td>Yes</td>\n",
       "      <td>Yes</td>\n",
       "      <td>Yes</td>\n",
       "      <td>No</td>\n",
       "      <td>Two year</td>\n",
       "      <td>Yes</td>\n",
       "      <td>Bank transfer (automatic)</td>\n",
       "      <td>0</td>\n",
       "    </tr>\n",
       "    <tr>\n",
       "      <th>4598</th>\n",
       "      <td>0</td>\n",
       "      <td>56.05</td>\n",
       "      <td></td>\n",
       "      <td>Female</td>\n",
       "      <td>0</td>\n",
       "      <td>Yes</td>\n",
       "      <td>Yes</td>\n",
       "      <td>No</td>\n",
       "      <td>No phone service</td>\n",
       "      <td>DSL</td>\n",
       "      <td>Yes</td>\n",
       "      <td>Yes</td>\n",
       "      <td>Yes</td>\n",
       "      <td>Yes</td>\n",
       "      <td>Yes</td>\n",
       "      <td>No</td>\n",
       "      <td>Two year</td>\n",
       "      <td>No</td>\n",
       "      <td>Credit card (automatic)</td>\n",
       "      <td>0</td>\n",
       "    </tr>\n",
       "  </tbody>\n",
       "</table>\n",
       "</div>"
      ],
      "text/plain": [
       "      ClientPeriod  MonthlySpending TotalSpent     Sex  IsSeniorCitizen  \\\n",
       "1048             0            25.75               Male                0   \n",
       "1707             0            73.35             Female                0   \n",
       "2543             0            19.70               Male                0   \n",
       "3078             0            80.85             Female                0   \n",
       "3697             0            20.00             Female                0   \n",
       "4002             0            61.90               Male                0   \n",
       "4326             0            25.35               Male                0   \n",
       "4551             0            52.55             Female                0   \n",
       "4598             0            56.05             Female                0   \n",
       "\n",
       "     HasPartner HasChild HasPhoneService HasMultiplePhoneNumbers  \\\n",
       "1048        Yes      Yes             Yes                     Yes   \n",
       "1707        Yes      Yes             Yes                     Yes   \n",
       "2543        Yes      Yes             Yes                      No   \n",
       "3078        Yes      Yes             Yes                      No   \n",
       "3697        Yes      Yes             Yes                      No   \n",
       "4002         No      Yes             Yes                     Yes   \n",
       "4326        Yes      Yes             Yes                     Yes   \n",
       "4551        Yes      Yes              No        No phone service   \n",
       "4598        Yes      Yes              No        No phone service   \n",
       "\n",
       "     HasInternetService HasOnlineSecurityService      HasOnlineBackup  \\\n",
       "1048                 No      No internet service  No internet service   \n",
       "1707                DSL                       No                  Yes   \n",
       "2543                 No      No internet service  No internet service   \n",
       "3078                DSL                      Yes                  Yes   \n",
       "3697                 No      No internet service  No internet service   \n",
       "4002                DSL                      Yes                  Yes   \n",
       "4326                 No      No internet service  No internet service   \n",
       "4551                DSL                      Yes                   No   \n",
       "4598                DSL                      Yes                  Yes   \n",
       "\n",
       "      HasDeviceProtection HasTechSupportAccess          HasOnlineTV  \\\n",
       "1048  No internet service  No internet service  No internet service   \n",
       "1707                  Yes                  Yes                  Yes   \n",
       "2543  No internet service  No internet service  No internet service   \n",
       "3078                  Yes                   No                  Yes   \n",
       "3697  No internet service  No internet service  No internet service   \n",
       "4002                   No                  Yes                   No   \n",
       "4326  No internet service  No internet service  No internet service   \n",
       "4551                  Yes                  Yes                  Yes   \n",
       "4598                  Yes                  Yes                  Yes   \n",
       "\n",
       "     HasMovieSubscription HasContractPhone IsBillingPaperless  \\\n",
       "1048  No internet service         Two year                 No   \n",
       "1707                   No         Two year                 No   \n",
       "2543  No internet service         One year                Yes   \n",
       "3078                  Yes         Two year                 No   \n",
       "3697  No internet service         Two year                 No   \n",
       "4002                   No         Two year                Yes   \n",
       "4326  No internet service         Two year                 No   \n",
       "4551                   No         Two year                Yes   \n",
       "4598                   No         Two year                 No   \n",
       "\n",
       "                  PaymentMethod  Churn  \n",
       "1048               Mailed check      0  \n",
       "1707               Mailed check      0  \n",
       "2543               Mailed check      0  \n",
       "3078               Mailed check      0  \n",
       "3697               Mailed check      0  \n",
       "4002  Bank transfer (automatic)      0  \n",
       "4326               Mailed check      0  \n",
       "4551  Bank transfer (automatic)      0  \n",
       "4598    Credit card (automatic)      0  "
      ]
     },
     "execution_count": 10,
     "metadata": {},
     "output_type": "execute_result"
    }
   ],
   "source": [
    "data.loc[data['TotalSpent'] == ' ']"
   ]
  },
  {
   "cell_type": "markdown",
   "id": "724d9a29",
   "metadata": {
    "papermill": {
     "duration": 0.023996,
     "end_time": "2022-11-15T14:01:17.956590",
     "exception": false,
     "start_time": "2022-11-15T14:01:17.932594",
     "status": "completed"
    },
    "tags": []
   },
   "source": [
    " Clearly these cells are for clients who didn't make payments yet, so replace them with 0 and create a variable for target column."
   ]
  },
  {
   "cell_type": "code",
   "execution_count": 11,
   "id": "6fcfb58d",
   "metadata": {
    "ExecuteTime": {
     "end_time": "2022-11-13T13:00:47.886607Z",
     "start_time": "2022-11-13T13:00:47.780699Z"
    },
    "execution": {
     "iopub.execute_input": "2022-11-15T14:01:18.004850Z",
     "iopub.status.busy": "2022-11-15T14:01:18.004427Z",
     "iopub.status.idle": "2022-11-15T14:01:18.147886Z",
     "shell.execute_reply": "2022-11-15T14:01:18.146686Z"
    },
    "papermill": {
     "duration": 0.170513,
     "end_time": "2022-11-15T14:01:18.150463",
     "exception": false,
     "start_time": "2022-11-15T14:01:17.979950",
     "status": "completed"
    },
    "tags": []
   },
   "outputs": [],
   "source": [
    "data.replace(r'^\\s*$', 0, inplace=True, regex=True)\n",
    "\n",
    "# Assign float type to TotalSpent as it is a numerical column\n",
    "\n",
    "data[\"TotalSpent\"] = data.TotalSpent.astype(float)\n",
    "y = data[target_col]"
   ]
  },
  {
   "cell_type": "markdown",
   "id": "9cb1c48d",
   "metadata": {
    "papermill": {
     "duration": 0.023003,
     "end_time": "2022-11-15T14:01:18.197107",
     "exception": false,
     "start_time": "2022-11-15T14:01:18.174104",
     "status": "completed"
    },
    "tags": []
   },
   "source": [
    "Check test dataset and apply the same operation (replace empty with zeros) to it:"
   ]
  },
  {
   "cell_type": "code",
   "execution_count": 12,
   "id": "acaee5eb",
   "metadata": {
    "ExecuteTime": {
     "end_time": "2022-11-13T13:00:48.133891Z",
     "start_time": "2022-11-13T13:00:48.117229Z"
    },
    "execution": {
     "iopub.execute_input": "2022-11-15T14:01:18.245450Z",
     "iopub.status.busy": "2022-11-15T14:01:18.245057Z",
     "iopub.status.idle": "2022-11-15T14:01:18.265610Z",
     "shell.execute_reply": "2022-11-15T14:01:18.264792Z"
    },
    "papermill": {
     "duration": 0.047372,
     "end_time": "2022-11-15T14:01:18.267762",
     "exception": false,
     "start_time": "2022-11-15T14:01:18.220390",
     "status": "completed"
    },
    "tags": []
   },
   "outputs": [
    {
     "data": {
      "text/plain": [
       "(array([177, 767]), array([2, 2]))"
      ]
     },
     "execution_count": 12,
     "metadata": {},
     "output_type": "execute_result"
    }
   ],
   "source": [
    "np.where(test_data.applymap(lambda x: x == ' '))"
   ]
  },
  {
   "cell_type": "code",
   "execution_count": 13,
   "id": "ef3e3675",
   "metadata": {
    "ExecuteTime": {
     "end_time": "2022-11-13T13:00:48.383709Z",
     "start_time": "2022-11-13T13:00:48.310797Z"
    },
    "execution": {
     "iopub.execute_input": "2022-11-15T14:01:18.318836Z",
     "iopub.status.busy": "2022-11-15T14:01:18.317781Z",
     "iopub.status.idle": "2022-11-15T14:01:18.369251Z",
     "shell.execute_reply": "2022-11-15T14:01:18.368213Z"
    },
    "papermill": {
     "duration": 0.079729,
     "end_time": "2022-11-15T14:01:18.371948",
     "exception": false,
     "start_time": "2022-11-15T14:01:18.292219",
     "status": "completed"
    },
    "tags": []
   },
   "outputs": [],
   "source": [
    "test_data.replace(r'^\\s*$', 0, inplace=True, regex=True)\n",
    "test_data[\"TotalSpent\"] = test_data.TotalSpent.astype(float)"
   ]
  },
  {
   "cell_type": "markdown",
   "id": "77cccf88",
   "metadata": {
    "papermill": {
     "duration": 0.023106,
     "end_time": "2022-11-15T14:01:18.418765",
     "exception": false,
     "start_time": "2022-11-15T14:01:18.395659",
     "status": "completed"
    },
    "tags": []
   },
   "source": [
    "# 2. Data Analysis"
   ]
  },
  {
   "cell_type": "markdown",
   "id": "97ef3171",
   "metadata": {
    "papermill": {
     "duration": 0.022992,
     "end_time": "2022-11-15T14:01:18.465234",
     "exception": false,
     "start_time": "2022-11-15T14:01:18.442242",
     "status": "completed"
    },
    "tags": []
   },
   "source": [
    "## *2.1. Numerical features visualisation*"
   ]
  },
  {
   "cell_type": "code",
   "execution_count": 14,
   "id": "2016c3d2",
   "metadata": {
    "ExecuteTime": {
     "end_time": "2022-11-13T13:00:51.856186Z",
     "start_time": "2022-11-13T13:00:50.941709Z"
    },
    "execution": {
     "iopub.execute_input": "2022-11-15T14:01:18.513799Z",
     "iopub.status.busy": "2022-11-15T14:01:18.513401Z",
     "iopub.status.idle": "2022-11-15T14:01:19.236524Z",
     "shell.execute_reply": "2022-11-15T14:01:19.235433Z"
    },
    "papermill": {
     "duration": 0.750717,
     "end_time": "2022-11-15T14:01:19.239219",
     "exception": false,
     "start_time": "2022-11-15T14:01:18.488502",
     "status": "completed"
    },
    "tags": []
   },
   "outputs": [
    {
     "data": {
      "image/png": "[encoded data removed]",
      "text/plain": [
       "<Figure size 1008x288 with 3 Axes>"
      ]
     },
     "metadata": {
      "needs_background": "light"
     },
     "output_type": "display_data"
    }
   ],
   "source": [
    "fig, axes = plt.subplots(1, 3, figsize=(14, 4))\n",
    "fig.suptitle('Numerical features histogram', fontsize=15)\n",
    "fig.tight_layout(pad=3)\n",
    "\n",
    "for i, col in enumerate(num_cols):\n",
    "    axes[i].set_title(col)\n",
    "    axes[i].grid(alpha=0.2)\n",
    "    axes[i].hist(data[data[target_col] == 1][col], color='green', edgecolor='black', density=True, bins=20, label='Churned')\n",
    "    axes[i].hist(data[data[target_col] == 0][col], color='lime', edgecolor='black', alpha=0.3, density=True, bins=20, label='Retained')\n",
    "    axes[i].legend()\n",
    "plt.show()"
   ]
  },
  {
   "cell_type": "markdown",
   "id": "1ca6af63",
   "metadata": {
    "papermill": {
     "duration": 0.023608,
     "end_time": "2022-11-15T14:01:19.287082",
     "exception": false,
     "start_time": "2022-11-15T14:01:19.263474",
     "status": "completed"
    },
    "tags": []
   },
   "source": [
    "## *2.2. Categorical features visualisation*"
   ]
  },
  {
   "cell_type": "code",
   "execution_count": 15,
   "id": "fc85c222",
   "metadata": {
    "ExecuteTime": {
     "end_time": "2022-11-13T13:00:54.787571Z",
     "start_time": "2022-11-13T13:00:52.253458Z"
    },
    "execution": {
     "iopub.execute_input": "2022-11-15T14:01:19.337058Z",
     "iopub.status.busy": "2022-11-15T14:01:19.336281Z",
     "iopub.status.idle": "2022-11-15T14:01:23.268614Z",
     "shell.execute_reply": "2022-11-15T14:01:23.267554Z"
    },
    "papermill": {
     "duration": 3.960142,
     "end_time": "2022-11-15T14:01:23.271144",
     "exception": false,
     "start_time": "2022-11-15T14:01:19.311002",
     "status": "completed"
    },
    "tags": []
   },
   "outputs": [
    {
     "data": {
      "image/png": "[encoded data removed]",
      "text/plain": [
       "<Figure size 1008x1440 with 16 Axes>"
      ]
     },
     "metadata": {
      "needs_background": "light"
     },
     "output_type": "display_data"
    }
   ],
   "source": [
    "plt.figure(figsize=(14, 20))\n",
    "\n",
    "for i, col in enumerate(cat_cols):\n",
    "    ax = plt.subplot(8, 2, i+1)\n",
    "    plt.tight_layout(w_pad=4)\n",
    "    curr_col = sns.countplot(x=col, hue='Churn', data=data)"
   ]
  },
  {
   "cell_type": "markdown",
   "id": "f6f63d94",
   "metadata": {
    "papermill": {
     "duration": 0.024987,
     "end_time": "2022-11-15T14:01:23.322042",
     "exception": false,
     "start_time": "2022-11-15T14:01:23.297055",
     "status": "completed"
    },
    "tags": []
   },
   "source": [
    "### *2.2.1. Some considerations on correlations*"
   ]
  },
  {
   "cell_type": "markdown",
   "id": "c072b365",
   "metadata": {
    "papermill": {
     "duration": 0.025502,
     "end_time": "2022-11-15T14:01:23.372819",
     "exception": false,
     "start_time": "2022-11-15T14:01:23.347317",
     "status": "completed"
    },
    "tags": []
   },
   "source": [
    "Let's find some correlations if any. The most prominent churn bars are for 7 categories: *HasInternetService*, *HasOnlineSecurityService*, *HasOnlineBackup*, *HasDeviceProtection*, *HasTechSupportAccess*, *HasContractPhone* and *PaymentMethod*.\n",
    "\n",
    "So, let's take a look at the numerical values:\n",
    "<ul>Percent correlation between Internet service and churn:</ul>"
   ]
  },
  {
   "cell_type": "code",
   "execution_count": 16,
   "id": "41b59e2f",
   "metadata": {
    "ExecuteTime": {
     "end_time": "2022-11-13T13:00:54.796664Z",
     "start_time": "2022-11-13T13:00:54.789758Z"
    },
    "execution": {
     "iopub.execute_input": "2022-11-15T14:01:23.425100Z",
     "iopub.status.busy": "2022-11-15T14:01:23.424718Z",
     "iopub.status.idle": "2022-11-15T14:01:23.435237Z",
     "shell.execute_reply": "2022-11-15T14:01:23.433917Z"
    },
    "papermill": {
     "duration": 0.039929,
     "end_time": "2022-11-15T14:01:23.438104",
     "exception": false,
     "start_time": "2022-11-15T14:01:23.398175",
     "status": "completed"
    },
    "scrolled": true,
    "tags": []
   },
   "outputs": [
    {
     "name": "stdout",
     "output_type": "stream",
     "text": [
      "HasInternetService\n",
      "DSL            19.000000\n",
      "Fiber optic    41.008116\n",
      "No              7.186678\n",
      "Name: Churn, dtype: float64\n"
     ]
    }
   ],
   "source": [
    "print(data.groupby(\"HasInternetService\").agg(\"Churn\").sum()/\n",
    "      data.groupby(\"HasInternetService\").agg(\"Churn\").count()*100)"
   ]
  },
  {
   "cell_type": "markdown",
   "id": "5f692bce",
   "metadata": {
    "papermill": {
     "duration": 0.025734,
     "end_time": "2022-11-15T14:01:23.490519",
     "exception": false,
     "start_time": "2022-11-15T14:01:23.464785",
     "status": "completed"
    },
    "tags": []
   },
   "source": [
    "Users with fiber optic connection more tend to leave than stay."
   ]
  },
  {
   "cell_type": "markdown",
   "id": "61a8748e",
   "metadata": {
    "papermill": {
     "duration": 0.025272,
     "end_time": "2022-11-15T14:01:23.541622",
     "exception": false,
     "start_time": "2022-11-15T14:01:23.516350",
     "status": "completed"
    },
    "tags": []
   },
   "source": [
    "<ul>Percent correlation with online security service:</ul>"
   ]
  },
  {
   "cell_type": "code",
   "execution_count": 17,
   "id": "199e07a1",
   "metadata": {
    "ExecuteTime": {
     "end_time": "2022-11-13T13:00:55.229534Z",
     "start_time": "2022-11-13T13:00:55.221401Z"
    },
    "execution": {
     "iopub.execute_input": "2022-11-15T14:01:23.595664Z",
     "iopub.status.busy": "2022-11-15T14:01:23.594628Z",
     "iopub.status.idle": "2022-11-15T14:01:23.605788Z",
     "shell.execute_reply": "2022-11-15T14:01:23.604588Z"
    },
    "papermill": {
     "duration": 0.041127,
     "end_time": "2022-11-15T14:01:23.608537",
     "exception": false,
     "start_time": "2022-11-15T14:01:23.567410",
     "status": "completed"
    },
    "tags": []
   },
   "outputs": [
    {
     "name": "stdout",
     "output_type": "stream",
     "text": [
      "HasOnlineSecurityService\n",
      "No                     41.883614\n",
      "No internet service     7.186678\n",
      "Yes                    13.603663\n",
      "Name: Churn, dtype: float64\n"
     ]
    }
   ],
   "source": [
    "print(data.groupby(\"HasOnlineSecurityService\").agg(\"Churn\").sum()/\n",
    "      data.groupby(\"HasOnlineSecurityService\").agg(\"Churn\").count()*100)"
   ]
  },
  {
   "cell_type": "markdown",
   "id": "12942c65",
   "metadata": {
    "papermill": {
     "duration": 0.025637,
     "end_time": "2022-11-15T14:01:23.661265",
     "exception": false,
     "start_time": "2022-11-15T14:01:23.635628",
     "status": "completed"
    },
    "tags": []
   },
   "source": [
    "Obvious churn for those without online security services."
   ]
  },
  {
   "cell_type": "markdown",
   "id": "cb00c5a5",
   "metadata": {
    "ExecuteTime": {
     "end_time": "2022-11-06T15:04:43.202155Z",
     "start_time": "2022-11-06T15:04:43.198418Z"
    },
    "papermill": {
     "duration": 0.025593,
     "end_time": "2022-11-15T14:01:23.713038",
     "exception": false,
     "start_time": "2022-11-15T14:01:23.687445",
     "status": "completed"
    },
    "tags": []
   },
   "source": [
    "<ul>The same situation with online backup, device protection, and tech support access:</ul>"
   ]
  },
  {
   "cell_type": "code",
   "execution_count": 18,
   "id": "b5e02c80",
   "metadata": {
    "ExecuteTime": {
     "end_time": "2022-11-13T13:00:57.117741Z",
     "start_time": "2022-11-13T13:00:57.101546Z"
    },
    "execution": {
     "iopub.execute_input": "2022-11-15T14:01:23.767010Z",
     "iopub.status.busy": "2022-11-15T14:01:23.766187Z",
     "iopub.status.idle": "2022-11-15T14:01:23.786490Z",
     "shell.execute_reply": "2022-11-15T14:01:23.784899Z"
    },
    "papermill": {
     "duration": 0.050645,
     "end_time": "2022-11-15T14:01:23.789675",
     "exception": false,
     "start_time": "2022-11-15T14:01:23.739030",
     "status": "completed"
    },
    "tags": []
   },
   "outputs": [
    {
     "name": "stdout",
     "output_type": "stream",
     "text": [
      "HasOnlineBackup\n",
      "No                     39.665523\n",
      "No internet service     7.186678\n",
      "Yes                    20.840243\n",
      "Name: Churn, dtype: float64 \n",
      "\n",
      "HasDeviceProtection\n",
      "No                     38.843332\n",
      "No internet service     7.186678\n",
      "Yes                    22.039474\n",
      "Name: Churn, dtype: float64 \n",
      "\n",
      "HasTechSupportAccess\n",
      "No                     41.244240\n",
      "No internet service     7.186678\n",
      "Yes                    14.834092\n",
      "Name: Churn, dtype: float64\n"
     ]
    }
   ],
   "source": [
    "print(data.groupby(\"HasOnlineBackup\").agg(\"Churn\").sum()/\n",
    "      data.groupby(\"HasOnlineBackup\").agg(\"Churn\").count()*100, '\\n')\n",
    "print(data.groupby(\"HasDeviceProtection\").agg(\"Churn\").sum()/\n",
    "      data.groupby(\"HasDeviceProtection\").agg(\"Churn\").count()*100, '\\n')\n",
    "print(data.groupby(\"HasTechSupportAccess\").agg(\"Churn\").sum()/\n",
    "      data.groupby(\"HasTechSupportAccess\").agg(\"Churn\").count()*100)"
   ]
  },
  {
   "cell_type": "markdown",
   "id": "22ca99f1",
   "metadata": {
    "papermill": {
     "duration": 0.025276,
     "end_time": "2022-11-15T14:01:23.842533",
     "exception": false,
     "start_time": "2022-11-15T14:01:23.817257",
     "status": "completed"
    },
    "tags": []
   },
   "source": [
    "Clients who haven't got these sevices are more likely to leave."
   ]
  },
  {
   "cell_type": "markdown",
   "id": "53b9ff89",
   "metadata": {
    "papermill": {
     "duration": 0.02544,
     "end_time": "2022-11-15T14:01:23.893487",
     "exception": false,
     "start_time": "2022-11-15T14:01:23.868047",
     "status": "completed"
    },
    "tags": []
   },
   "source": [
    "<ul>Correlation with contract phone:</ul>"
   ]
  },
  {
   "cell_type": "code",
   "execution_count": 19,
   "id": "d910d388",
   "metadata": {
    "ExecuteTime": {
     "end_time": "2022-11-13T13:00:57.91057Z",
     "start_time": "2022-11-13T13:00:57.90222Z"
    },
    "execution": {
     "iopub.execute_input": "2022-11-15T14:01:23.946792Z",
     "iopub.status.busy": "2022-11-15T14:01:23.946194Z",
     "iopub.status.idle": "2022-11-15T14:01:23.956263Z",
     "shell.execute_reply": "2022-11-15T14:01:23.954811Z"
    },
    "papermill": {
     "duration": 0.040337,
     "end_time": "2022-11-15T14:01:23.959347",
     "exception": false,
     "start_time": "2022-11-15T14:01:23.919010",
     "status": "completed"
    },
    "tags": []
   },
   "outputs": [
    {
     "name": "stdout",
     "output_type": "stream",
     "text": [
      "HasContractPhone\n",
      "Month-to-month    42.157534\n",
      "One year          11.090573\n",
      "Two year           2.578125\n",
      "Name: Churn, dtype: float64\n"
     ]
    }
   ],
   "source": [
    "print(data.groupby(\"HasContractPhone\").agg(\"Churn\").sum()/\n",
    "      data.groupby(\"HasContractPhone\").agg(\"Churn\").count()*100)"
   ]
  },
  {
   "cell_type": "markdown",
   "id": "ac6d2d43",
   "metadata": {
    "papermill": {
     "duration": 0.025616,
     "end_time": "2022-11-15T14:01:24.011958",
     "exception": false,
     "start_time": "2022-11-15T14:01:23.986342",
     "status": "completed"
    },
    "tags": []
   },
   "source": [
    "So users with long-term contracts are less tend to leave."
   ]
  },
  {
   "cell_type": "markdown",
   "id": "11d26696",
   "metadata": {
    "papermill": {
     "duration": 0.025864,
     "end_time": "2022-11-15T14:01:24.064179",
     "exception": false,
     "start_time": "2022-11-15T14:01:24.038315",
     "status": "completed"
    },
    "tags": []
   },
   "source": [
    "<ul>Correlation with payment method:</ul>"
   ]
  },
  {
   "cell_type": "code",
   "execution_count": 20,
   "id": "3b50b546",
   "metadata": {
    "ExecuteTime": {
     "end_time": "2022-11-13T13:00:58.492385Z",
     "start_time": "2022-11-13T13:00:58.48489Z"
    },
    "execution": {
     "iopub.execute_input": "2022-11-15T14:01:24.117823Z",
     "iopub.status.busy": "2022-11-15T14:01:24.117444Z",
     "iopub.status.idle": "2022-11-15T14:01:24.128587Z",
     "shell.execute_reply": "2022-11-15T14:01:24.126937Z"
    },
    "papermill": {
     "duration": 0.04091,
     "end_time": "2022-11-15T14:01:24.131278",
     "exception": false,
     "start_time": "2022-11-15T14:01:24.090368",
     "status": "completed"
    },
    "scrolled": true,
    "tags": []
   },
   "outputs": [
    {
     "name": "stdout",
     "output_type": "stream",
     "text": [
      "PaymentMethod\n",
      "Bank transfer (automatic)    16.824849\n",
      "Credit card (automatic)      14.435696\n",
      "Electronic check             44.456887\n",
      "Mailed check                 19.262982\n",
      "Name: Churn, dtype: float64\n"
     ]
    }
   ],
   "source": [
    "print(data.groupby(\"PaymentMethod\").agg(\"Churn\").sum()/\n",
    "      data.groupby(\"PaymentMethod\").agg(\"Churn\").count()*100)"
   ]
  },
  {
   "cell_type": "markdown",
   "id": "48949ea5",
   "metadata": {
    "papermill": {
     "duration": 0.025431,
     "end_time": "2022-11-15T14:01:24.183210",
     "exception": false,
     "start_time": "2022-11-15T14:01:24.157779",
     "status": "completed"
    },
    "tags": []
   },
   "source": [
    "This correlation is not too clear, but obviously clients who prefer to pay with electronic check are more likely to churn."
   ]
  },
  {
   "cell_type": "markdown",
   "id": "8231f6d4",
   "metadata": {
    "papermill": {
     "duration": 0.025399,
     "end_time": "2022-11-15T14:01:24.234086",
     "exception": false,
     "start_time": "2022-11-15T14:01:24.208687",
     "status": "completed"
    },
    "tags": []
   },
   "source": [
    "Later on, however, it turned out that these features selection (while removing the rest) has almost no effect on the results of learning, so in the following sections all categorical features are fed to the input of the models."
   ]
  },
  {
   "cell_type": "markdown",
   "id": "d8ff3534",
   "metadata": {
    "papermill": {
     "duration": 0.025684,
     "end_time": "2022-11-15T14:01:24.285175",
     "exception": false,
     "start_time": "2022-11-15T14:01:24.259491",
     "status": "completed"
    },
    "tags": []
   },
   "source": [
    "\n",
    "### *2.2.2. Target feature distribution*"
   ]
  },
  {
   "cell_type": "code",
   "execution_count": 21,
   "id": "90d62eeb",
   "metadata": {
    "ExecuteTime": {
     "end_time": "2022-11-13T13:00:59.276241Z",
     "start_time": "2022-11-13T13:00:59.189157Z"
    },
    "execution": {
     "iopub.execute_input": "2022-11-15T14:01:24.338109Z",
     "iopub.status.busy": "2022-11-15T14:01:24.337684Z",
     "iopub.status.idle": "2022-11-15T14:01:24.430433Z",
     "shell.execute_reply": "2022-11-15T14:01:24.428912Z"
    },
    "papermill": {
     "duration": 0.123763,
     "end_time": "2022-11-15T14:01:24.434468",
     "exception": false,
     "start_time": "2022-11-15T14:01:24.310705",
     "status": "completed"
    },
    "scrolled": true,
    "tags": []
   },
   "outputs": [
    {
     "data": {
      "image/png": "[encoded data removed]",
      "text/plain": [
       "<Figure size 432x288 with 1 Axes>"
      ]
     },
     "metadata": {},
     "output_type": "display_data"
    }
   ],
   "source": [
    "tc = data[target_col].value_counts()\n",
    "plt.pie(tc, labels=('Retained', 'Churned'), autopct='%1.1f%%', startangle=90)\n",
    "plt.title(target_col)\n",
    "plt.show()"
   ]
  },
  {
   "cell_type": "markdown",
   "id": "16ad7bcc",
   "metadata": {
    "papermill": {
     "duration": 0.039084,
     "end_time": "2022-11-15T14:01:24.542644",
     "exception": false,
     "start_time": "2022-11-15T14:01:24.503560",
     "status": "completed"
    },
    "tags": []
   },
   "source": [
    "The last piechart shows that almost three quarters of clients are loyal to the company. According to this and plots above we can say that classes are rather **balanced**."
   ]
  },
  {
   "cell_type": "markdown",
   "id": "52723488",
   "metadata": {
    "papermill": {
     "duration": 0.025654,
     "end_time": "2022-11-15T14:01:24.594238",
     "exception": false,
     "start_time": "2022-11-15T14:01:24.568584",
     "status": "completed"
    },
    "tags": []
   },
   "source": [
    "# 3. Prepare datasets for learning"
   ]
  },
  {
   "cell_type": "markdown",
   "id": "ec237cfe",
   "metadata": {
    "papermill": {
     "duration": 0.025837,
     "end_time": "2022-11-15T14:01:24.646451",
     "exception": false,
     "start_time": "2022-11-15T14:01:24.620614",
     "status": "completed"
    },
    "tags": []
   },
   "source": [
    "## *3.1. Preprocessing for linear models and KNN*"
   ]
  },
  {
   "cell_type": "markdown",
   "id": "92c19597",
   "metadata": {
    "papermill": {
     "duration": 0.026796,
     "end_time": "2022-11-15T14:01:24.699173",
     "exception": false,
     "start_time": "2022-11-15T14:01:24.672377",
     "status": "completed"
    },
    "tags": []
   },
   "source": [
    "Define a function for scaling numerical features and encoding categorical features. The resulting dataset will be used for linear models and KNN."
   ]
  },
  {
   "cell_type": "code",
   "execution_count": 22,
   "id": "a2fb4999",
   "metadata": {
    "execution": {
     "iopub.execute_input": "2022-11-15T14:01:24.753455Z",
     "iopub.status.busy": "2022-11-15T14:01:24.752710Z",
     "iopub.status.idle": "2022-11-15T14:01:24.757988Z",
     "shell.execute_reply": "2022-11-15T14:01:24.757231Z"
    },
    "papermill": {
     "duration": 0.035882,
     "end_time": "2022-11-15T14:01:24.761066",
     "exception": false,
     "start_time": "2022-11-15T14:01:24.725184",
     "status": "completed"
    },
    "tags": []
   },
   "outputs": [],
   "source": [
    "def scale_encode(dataset, scaler):\n",
    "    num_columns = pd.DataFrame(scaler.fit_transform(dataset[num_cols]), columns=num_cols)\n",
    "    cat_columns = pd.get_dummies(dataset[cat_cols])\n",
    "    return pd.concat([num_columns, cat_columns], axis=1)"
   ]
  },
  {
   "cell_type": "markdown",
   "id": "4a26e8f9",
   "metadata": {
    "papermill": {
     "duration": 0.026307,
     "end_time": "2022-11-15T14:01:24.814855",
     "exception": false,
     "start_time": "2022-11-15T14:01:24.788548",
     "status": "completed"
    },
    "tags": []
   },
   "source": [
    "## *3.2. A custom-encoded dataset for gradient boosting*"
   ]
  },
  {
   "cell_type": "markdown",
   "id": "7b3fffaf",
   "metadata": {
    "papermill": {
     "duration": 0.025594,
     "end_time": "2022-11-15T14:01:24.866330",
     "exception": false,
     "start_time": "2022-11-15T14:01:24.840736",
     "status": "completed"
    },
    "tags": []
   },
   "source": [
    "The above analysis in the Section 2 leads to some conclusions:<br>\n",
    "Note, there are many values \"No phone service\" and \"No internet service\" in the dataset. Obviously, if the client has no some service, \"No\" and \"No internet/phone service\" values will be equivalent. Thus we can make a **custom encoding** for categorical features, where \"*No*\", \"*No internet service*\" and \"*No phone service*\" can be replaced with zeroes. And it will be possible to replace other values with consecutive integers. Let's create a corresponding template for replace."
   ]
  },
  {
   "cell_type": "code",
   "execution_count": 23,
   "id": "64bf0e87",
   "metadata": {
    "ExecuteTime": {
     "end_time": "2022-11-13T13:01:01.665277Z",
     "start_time": "2022-11-13T13:01:01.660884Z"
    },
    "execution": {
     "iopub.execute_input": "2022-11-15T14:01:24.919646Z",
     "iopub.status.busy": "2022-11-15T14:01:24.919276Z",
     "iopub.status.idle": "2022-11-15T14:01:24.925299Z",
     "shell.execute_reply": "2022-11-15T14:01:24.924425Z"
    },
    "papermill": {
     "duration": 0.035402,
     "end_time": "2022-11-15T14:01:24.927586",
     "exception": false,
     "start_time": "2022-11-15T14:01:24.892184",
     "status": "completed"
    },
    "tags": []
   },
   "outputs": [],
   "source": [
    "template = {\n",
    "    'Male': 1,\n",
    "    'Female': 0,\n",
    "    'Yes': 1,\n",
    "    'No': 0,\n",
    "    'No phone service': 0,\n",
    "    'Fiber optic': 2,\n",
    "    'DSL': 1,\n",
    "    'No internet service': 0,\n",
    "    'One year': 0,\n",
    "    'Two year': 1,\n",
    "    'Month-to-month': 2,\n",
    "    'Mailed check': 0,\n",
    "    'Credit card (automatic)': 1,\n",
    "    'Electronic check': 3,\n",
    "    'Bank transfer (automatic)': 2\n",
    "}"
   ]
  },
  {
   "cell_type": "markdown",
   "id": "c6e1c130",
   "metadata": {
    "papermill": {
     "duration": 0.025643,
     "end_time": "2022-11-15T14:01:24.979215",
     "exception": false,
     "start_time": "2022-11-15T14:01:24.953572",
     "status": "completed"
    },
    "tags": []
   },
   "source": [
    "Create train and test datasets with custom encoding (empty values were replaced with zeros in *Section 1.2 Check for null values and empty cells*.):"
   ]
  },
  {
   "cell_type": "code",
   "execution_count": 24,
   "id": "8db9e8b1",
   "metadata": {
    "ExecuteTime": {
     "end_time": "2022-11-13T14:55:34.114763Z",
     "start_time": "2022-11-13T14:55:34.021568Z"
    },
    "execution": {
     "iopub.execute_input": "2022-11-15T14:01:25.032923Z",
     "iopub.status.busy": "2022-11-15T14:01:25.032262Z",
     "iopub.status.idle": "2022-11-15T14:01:25.120068Z",
     "shell.execute_reply": "2022-11-15T14:01:25.119091Z"
    },
    "papermill": {
     "duration": 0.117595,
     "end_time": "2022-11-15T14:01:25.122780",
     "exception": false,
     "start_time": "2022-11-15T14:01:25.005185",
     "status": "completed"
    },
    "tags": []
   },
   "outputs": [],
   "source": [
    "custom_data = data.replace(template).drop(target_col, axis=1) # custom encoding dataset without target column\n",
    "custom_test_data = test_data.replace(template) # test dataset has no \"Churn\" feature, so drop operation is not necessary"
   ]
  },
  {
   "cell_type": "code",
   "execution_count": 25,
   "id": "41b84288",
   "metadata": {
    "execution": {
     "iopub.execute_input": "2022-11-15T14:01:25.178040Z",
     "iopub.status.busy": "2022-11-15T14:01:25.177319Z",
     "iopub.status.idle": "2022-11-15T14:01:25.194646Z",
     "shell.execute_reply": "2022-11-15T14:01:25.193670Z"
    },
    "papermill": {
     "duration": 0.047486,
     "end_time": "2022-11-15T14:01:25.196966",
     "exception": false,
     "start_time": "2022-11-15T14:01:25.149480",
     "status": "completed"
    },
    "tags": []
   },
   "outputs": [
    {
     "data": {
      "text/html": [
       "<div>\n",
       "<style scoped>\n",
       "    .dataframe tbody tr th:only-of-type {\n",
       "        vertical-align: middle;\n",
       "    }\n",
       "\n",
       "    .dataframe tbody tr th {\n",
       "        vertical-align: top;\n",
       "    }\n",
       "\n",
       "    .dataframe thead th {\n",
       "        text-align: right;\n",
       "    }\n",
       "</style>\n",
       "<table border=\"1\" class=\"dataframe\">\n",
       "  <thead>\n",
       "    <tr style=\"text-align: right;\">\n",
       "      <th></th>\n",
       "      <th>ClientPeriod</th>\n",
       "      <th>MonthlySpending</th>\n",
       "      <th>TotalSpent</th>\n",
       "      <th>Sex</th>\n",
       "      <th>IsSeniorCitizen</th>\n",
       "      <th>HasPartner</th>\n",
       "      <th>HasChild</th>\n",
       "      <th>HasPhoneService</th>\n",
       "      <th>HasMultiplePhoneNumbers</th>\n",
       "      <th>HasInternetService</th>\n",
       "      <th>HasOnlineSecurityService</th>\n",
       "      <th>HasOnlineBackup</th>\n",
       "      <th>HasDeviceProtection</th>\n",
       "      <th>HasTechSupportAccess</th>\n",
       "      <th>HasOnlineTV</th>\n",
       "      <th>HasMovieSubscription</th>\n",
       "      <th>HasContractPhone</th>\n",
       "      <th>IsBillingPaperless</th>\n",
       "      <th>PaymentMethod</th>\n",
       "    </tr>\n",
       "  </thead>\n",
       "  <tbody>\n",
       "    <tr>\n",
       "      <th>4055</th>\n",
       "      <td>46</td>\n",
       "      <td>74.80</td>\n",
       "      <td>3548.30</td>\n",
       "      <td>0</td>\n",
       "      <td>0</td>\n",
       "      <td>0</td>\n",
       "      <td>0</td>\n",
       "      <td>1</td>\n",
       "      <td>0</td>\n",
       "      <td>2</td>\n",
       "      <td>0</td>\n",
       "      <td>0</td>\n",
       "      <td>1</td>\n",
       "      <td>0</td>\n",
       "      <td>0</td>\n",
       "      <td>0</td>\n",
       "      <td>2</td>\n",
       "      <td>1</td>\n",
       "      <td>1</td>\n",
       "    </tr>\n",
       "    <tr>\n",
       "      <th>1060</th>\n",
       "      <td>1</td>\n",
       "      <td>50.55</td>\n",
       "      <td>50.55</td>\n",
       "      <td>0</td>\n",
       "      <td>0</td>\n",
       "      <td>0</td>\n",
       "      <td>0</td>\n",
       "      <td>1</td>\n",
       "      <td>0</td>\n",
       "      <td>1</td>\n",
       "      <td>0</td>\n",
       "      <td>1</td>\n",
       "      <td>0</td>\n",
       "      <td>0</td>\n",
       "      <td>0</td>\n",
       "      <td>0</td>\n",
       "      <td>2</td>\n",
       "      <td>0</td>\n",
       "      <td>3</td>\n",
       "    </tr>\n",
       "    <tr>\n",
       "      <th>2452</th>\n",
       "      <td>15</td>\n",
       "      <td>85.90</td>\n",
       "      <td>1269.55</td>\n",
       "      <td>0</td>\n",
       "      <td>0</td>\n",
       "      <td>0</td>\n",
       "      <td>1</td>\n",
       "      <td>1</td>\n",
       "      <td>0</td>\n",
       "      <td>2</td>\n",
       "      <td>0</td>\n",
       "      <td>1</td>\n",
       "      <td>0</td>\n",
       "      <td>0</td>\n",
       "      <td>0</td>\n",
       "      <td>1</td>\n",
       "      <td>2</td>\n",
       "      <td>1</td>\n",
       "      <td>2</td>\n",
       "    </tr>\n",
       "    <tr>\n",
       "      <th>2955</th>\n",
       "      <td>67</td>\n",
       "      <td>26.30</td>\n",
       "      <td>1688.90</td>\n",
       "      <td>1</td>\n",
       "      <td>0</td>\n",
       "      <td>1</td>\n",
       "      <td>1</td>\n",
       "      <td>1</td>\n",
       "      <td>1</td>\n",
       "      <td>0</td>\n",
       "      <td>0</td>\n",
       "      <td>0</td>\n",
       "      <td>0</td>\n",
       "      <td>0</td>\n",
       "      <td>0</td>\n",
       "      <td>0</td>\n",
       "      <td>1</td>\n",
       "      <td>0</td>\n",
       "      <td>0</td>\n",
       "    </tr>\n",
       "    <tr>\n",
       "      <th>3582</th>\n",
       "      <td>65</td>\n",
       "      <td>24.80</td>\n",
       "      <td>1600.95</td>\n",
       "      <td>1</td>\n",
       "      <td>0</td>\n",
       "      <td>0</td>\n",
       "      <td>0</td>\n",
       "      <td>1</td>\n",
       "      <td>1</td>\n",
       "      <td>0</td>\n",
       "      <td>0</td>\n",
       "      <td>0</td>\n",
       "      <td>0</td>\n",
       "      <td>0</td>\n",
       "      <td>0</td>\n",
       "      <td>0</td>\n",
       "      <td>0</td>\n",
       "      <td>0</td>\n",
       "      <td>1</td>\n",
       "    </tr>\n",
       "  </tbody>\n",
       "</table>\n",
       "</div>"
      ],
      "text/plain": [
       "      ClientPeriod  MonthlySpending  TotalSpent  Sex  IsSeniorCitizen  \\\n",
       "4055            46            74.80     3548.30    0                0   \n",
       "1060             1            50.55       50.55    0                0   \n",
       "2452            15            85.90     1269.55    0                0   \n",
       "2955            67            26.30     1688.90    1                0   \n",
       "3582            65            24.80     1600.95    1                0   \n",
       "\n",
       "      HasPartner  HasChild  HasPhoneService  HasMultiplePhoneNumbers  \\\n",
       "4055           0         0                1                        0   \n",
       "1060           0         0                1                        0   \n",
       "2452           0         1                1                        0   \n",
       "2955           1         1                1                        1   \n",
       "3582           0         0                1                        1   \n",
       "\n",
       "      HasInternetService  HasOnlineSecurityService  HasOnlineBackup  \\\n",
       "4055                   2                         0                0   \n",
       "1060                   1                         0                1   \n",
       "2452                   2                         0                1   \n",
       "2955                   0                         0                0   \n",
       "3582                   0                         0                0   \n",
       "\n",
       "      HasDeviceProtection  HasTechSupportAccess  HasOnlineTV  \\\n",
       "4055                    1                     0            0   \n",
       "1060                    0                     0            0   \n",
       "2452                    0                     0            0   \n",
       "2955                    0                     0            0   \n",
       "3582                    0                     0            0   \n",
       "\n",
       "      HasMovieSubscription  HasContractPhone  IsBillingPaperless  \\\n",
       "4055                     0                 2                   1   \n",
       "1060                     0                 2                   0   \n",
       "2452                     1                 2                   1   \n",
       "2955                     0                 1                   0   \n",
       "3582                     0                 0                   0   \n",
       "\n",
       "      PaymentMethod  \n",
       "4055              1  \n",
       "1060              3  \n",
       "2452              2  \n",
       "2955              0  \n",
       "3582              1  "
      ]
     },
     "execution_count": 25,
     "metadata": {},
     "output_type": "execute_result"
    }
   ],
   "source": [
    "custom_data.sample(5)"
   ]
  },
  {
   "cell_type": "code",
   "execution_count": 26,
   "id": "2e307790",
   "metadata": {
    "execution": {
     "iopub.execute_input": "2022-11-15T14:01:25.252516Z",
     "iopub.status.busy": "2022-11-15T14:01:25.251776Z",
     "iopub.status.idle": "2022-11-15T14:01:25.269327Z",
     "shell.execute_reply": "2022-11-15T14:01:25.268241Z"
    },
    "papermill": {
     "duration": 0.047926,
     "end_time": "2022-11-15T14:01:25.271614",
     "exception": false,
     "start_time": "2022-11-15T14:01:25.223688",
     "status": "completed"
    },
    "tags": []
   },
   "outputs": [
    {
     "data": {
      "text/html": [
       "<div>\n",
       "<style scoped>\n",
       "    .dataframe tbody tr th:only-of-type {\n",
       "        vertical-align: middle;\n",
       "    }\n",
       "\n",
       "    .dataframe tbody tr th {\n",
       "        vertical-align: top;\n",
       "    }\n",
       "\n",
       "    .dataframe thead th {\n",
       "        text-align: right;\n",
       "    }\n",
       "</style>\n",
       "<table border=\"1\" class=\"dataframe\">\n",
       "  <thead>\n",
       "    <tr style=\"text-align: right;\">\n",
       "      <th></th>\n",
       "      <th>ClientPeriod</th>\n",
       "      <th>MonthlySpending</th>\n",
       "      <th>TotalSpent</th>\n",
       "      <th>Sex</th>\n",
       "      <th>IsSeniorCitizen</th>\n",
       "      <th>HasPartner</th>\n",
       "      <th>HasChild</th>\n",
       "      <th>HasPhoneService</th>\n",
       "      <th>HasMultiplePhoneNumbers</th>\n",
       "      <th>HasInternetService</th>\n",
       "      <th>HasOnlineSecurityService</th>\n",
       "      <th>HasOnlineBackup</th>\n",
       "      <th>HasDeviceProtection</th>\n",
       "      <th>HasTechSupportAccess</th>\n",
       "      <th>HasOnlineTV</th>\n",
       "      <th>HasMovieSubscription</th>\n",
       "      <th>HasContractPhone</th>\n",
       "      <th>IsBillingPaperless</th>\n",
       "      <th>PaymentMethod</th>\n",
       "    </tr>\n",
       "  </thead>\n",
       "  <tbody>\n",
       "    <tr>\n",
       "      <th>1484</th>\n",
       "      <td>21</td>\n",
       "      <td>45.65</td>\n",
       "      <td>985.05</td>\n",
       "      <td>1</td>\n",
       "      <td>0</td>\n",
       "      <td>0</td>\n",
       "      <td>1</td>\n",
       "      <td>1</td>\n",
       "      <td>0</td>\n",
       "      <td>1</td>\n",
       "      <td>0</td>\n",
       "      <td>0</td>\n",
       "      <td>0</td>\n",
       "      <td>0</td>\n",
       "      <td>0</td>\n",
       "      <td>0</td>\n",
       "      <td>2</td>\n",
       "      <td>0</td>\n",
       "      <td>0</td>\n",
       "    </tr>\n",
       "    <tr>\n",
       "      <th>598</th>\n",
       "      <td>1</td>\n",
       "      <td>54.90</td>\n",
       "      <td>54.90</td>\n",
       "      <td>0</td>\n",
       "      <td>0</td>\n",
       "      <td>0</td>\n",
       "      <td>0</td>\n",
       "      <td>1</td>\n",
       "      <td>0</td>\n",
       "      <td>1</td>\n",
       "      <td>1</td>\n",
       "      <td>1</td>\n",
       "      <td>0</td>\n",
       "      <td>0</td>\n",
       "      <td>0</td>\n",
       "      <td>0</td>\n",
       "      <td>2</td>\n",
       "      <td>1</td>\n",
       "      <td>3</td>\n",
       "    </tr>\n",
       "    <tr>\n",
       "      <th>843</th>\n",
       "      <td>1</td>\n",
       "      <td>49.75</td>\n",
       "      <td>49.75</td>\n",
       "      <td>1</td>\n",
       "      <td>0</td>\n",
       "      <td>0</td>\n",
       "      <td>0</td>\n",
       "      <td>1</td>\n",
       "      <td>0</td>\n",
       "      <td>1</td>\n",
       "      <td>1</td>\n",
       "      <td>0</td>\n",
       "      <td>0</td>\n",
       "      <td>0</td>\n",
       "      <td>0</td>\n",
       "      <td>0</td>\n",
       "      <td>2</td>\n",
       "      <td>0</td>\n",
       "      <td>3</td>\n",
       "    </tr>\n",
       "    <tr>\n",
       "      <th>1139</th>\n",
       "      <td>68</td>\n",
       "      <td>24.15</td>\n",
       "      <td>1498.85</td>\n",
       "      <td>1</td>\n",
       "      <td>0</td>\n",
       "      <td>0</td>\n",
       "      <td>0</td>\n",
       "      <td>1</td>\n",
       "      <td>1</td>\n",
       "      <td>0</td>\n",
       "      <td>0</td>\n",
       "      <td>0</td>\n",
       "      <td>0</td>\n",
       "      <td>0</td>\n",
       "      <td>0</td>\n",
       "      <td>0</td>\n",
       "      <td>1</td>\n",
       "      <td>1</td>\n",
       "      <td>2</td>\n",
       "    </tr>\n",
       "    <tr>\n",
       "      <th>517</th>\n",
       "      <td>1</td>\n",
       "      <td>72.10</td>\n",
       "      <td>72.10</td>\n",
       "      <td>0</td>\n",
       "      <td>1</td>\n",
       "      <td>0</td>\n",
       "      <td>0</td>\n",
       "      <td>1</td>\n",
       "      <td>1</td>\n",
       "      <td>2</td>\n",
       "      <td>0</td>\n",
       "      <td>0</td>\n",
       "      <td>0</td>\n",
       "      <td>0</td>\n",
       "      <td>0</td>\n",
       "      <td>0</td>\n",
       "      <td>2</td>\n",
       "      <td>1</td>\n",
       "      <td>3</td>\n",
       "    </tr>\n",
       "  </tbody>\n",
       "</table>\n",
       "</div>"
      ],
      "text/plain": [
       "      ClientPeriod  MonthlySpending  TotalSpent  Sex  IsSeniorCitizen  \\\n",
       "1484            21            45.65      985.05    1                0   \n",
       "598              1            54.90       54.90    0                0   \n",
       "843              1            49.75       49.75    1                0   \n",
       "1139            68            24.15     1498.85    1                0   \n",
       "517              1            72.10       72.10    0                1   \n",
       "\n",
       "      HasPartner  HasChild  HasPhoneService  HasMultiplePhoneNumbers  \\\n",
       "1484           0         1                1                        0   \n",
       "598            0         0                1                        0   \n",
       "843            0         0                1                        0   \n",
       "1139           0         0                1                        1   \n",
       "517            0         0                1                        1   \n",
       "\n",
       "      HasInternetService  HasOnlineSecurityService  HasOnlineBackup  \\\n",
       "1484                   1                         0                0   \n",
       "598                    1                         1                1   \n",
       "843                    1                         1                0   \n",
       "1139                   0                         0                0   \n",
       "517                    2                         0                0   \n",
       "\n",
       "      HasDeviceProtection  HasTechSupportAccess  HasOnlineTV  \\\n",
       "1484                    0                     0            0   \n",
       "598                     0                     0            0   \n",
       "843                     0                     0            0   \n",
       "1139                    0                     0            0   \n",
       "517                     0                     0            0   \n",
       "\n",
       "      HasMovieSubscription  HasContractPhone  IsBillingPaperless  \\\n",
       "1484                     0                 2                   0   \n",
       "598                      0                 2                   1   \n",
       "843                      0                 2                   0   \n",
       "1139                     0                 1                   1   \n",
       "517                      0                 2                   1   \n",
       "\n",
       "      PaymentMethod  \n",
       "1484              0  \n",
       "598               3  \n",
       "843               3  \n",
       "1139              2  \n",
       "517               3  "
      ]
     },
     "execution_count": 26,
     "metadata": {},
     "output_type": "execute_result"
    }
   ],
   "source": [
    "custom_test_data.sample(5)"
   ]
  },
  {
   "cell_type": "markdown",
   "id": "409070d8",
   "metadata": {
    "papermill": {
     "duration": 0.026619,
     "end_time": "2022-11-15T14:01:25.325093",
     "exception": false,
     "start_time": "2022-11-15T14:01:25.298474",
     "status": "completed"
    },
    "tags": []
   },
   "source": [
    "Now we're ready for learning. Fit train datasets with different encodings using various models and compare results."
   ]
  },
  {
   "cell_type": "markdown",
   "id": "f6eda9e5",
   "metadata": {
    "papermill": {
     "duration": 0.026469,
     "end_time": "2022-11-15T14:01:25.377995",
     "exception": false,
     "start_time": "2022-11-15T14:01:25.351526",
     "status": "completed"
    },
    "tags": []
   },
   "source": [
    "# 4. Testing linear models and KNN"
   ]
  },
  {
   "cell_type": "markdown",
   "id": "e9d144f9",
   "metadata": {
    "papermill": {
     "duration": 0.026172,
     "end_time": "2022-11-15T14:01:25.430661",
     "exception": false,
     "start_time": "2022-11-15T14:01:25.404489",
     "status": "completed"
    },
    "tags": []
   },
   "source": [
    "## *4.1. Best model search*"
   ]
  },
  {
   "cell_type": "markdown",
   "id": "1269012d",
   "metadata": {
    "ExecuteTime": {
     "end_time": "2022-11-07T10:21:32.004623Z",
     "start_time": "2022-11-07T10:21:32.000687Z"
    },
    "papermill": {
     "duration": 0.026612,
     "end_time": "2022-11-15T14:01:25.483802",
     "exception": false,
     "start_time": "2022-11-15T14:01:25.457190",
     "status": "completed"
    },
    "tags": []
   },
   "source": [
    "Here we use various models and try to find the most promising with GridSearchCV</br>Define a function for fitting models with a range of parameters."
   ]
  },
  {
   "cell_type": "code",
   "execution_count": 27,
   "id": "8bae747e",
   "metadata": {
    "ExecuteTime": {
     "end_time": "2022-11-13T13:24:10.001317Z",
     "start_time": "2022-11-13T13:24:09.988006Z"
    },
    "execution": {
     "iopub.execute_input": "2022-11-15T14:01:25.539543Z",
     "iopub.status.busy": "2022-11-15T14:01:25.538600Z",
     "iopub.status.idle": "2022-11-15T14:01:25.547833Z",
     "shell.execute_reply": "2022-11-15T14:01:25.547018Z"
    },
    "papermill": {
     "duration": 0.039775,
     "end_time": "2022-11-15T14:01:25.550212",
     "exception": false,
     "start_time": "2022-11-15T14:01:25.510437",
     "status": "completed"
    },
    "tags": []
   },
   "outputs": [],
   "source": [
    "def estimators_comparison(X_train, y_train):\n",
    "    \n",
    "    param_grid = {\n",
    "        'logistic_regression': {\n",
    "            'model': LogisticRegression(random_state=rs),\n",
    "            'params': {\n",
    "                'C': [6.2], # np.linspace(0.1, 10, 100),\n",
    "                'max_iter': [1000],\n",
    "                'solver': ['lbfgs'] # ['sag', 'saga', 'newton-cg', 'lbfgs', 'liblinear']\n",
    "            }\n",
    "        },\n",
    "        'elastic_net': {\n",
    "            'model': ElasticNet(random_state=rs),\n",
    "            'params': {\n",
    "                'alpha': [0.1], # np.linspace(0.1, 1, 10),\n",
    "                'l1_ratio': [0.1] #np.linspace(0.1, 1, 10)\n",
    "            }\n",
    "        },\n",
    "        'knn': {\n",
    "            'model': KNeighborsClassifier(),\n",
    "            'params': {\n",
    "                'n_neighbors': [77], # np.arange(1, 100),\n",
    "                'weights': ['uniform'], # ['uniform', 'distance']\n",
    "            }\n",
    "        },\n",
    "    }\n",
    "    scores = []\n",
    "\n",
    "    for name, value in param_grid.items():\n",
    "        clf = GridSearchCV(value['model'], value['params'], cv=5, scoring='roc_auc', n_jobs=-1)\n",
    "        clf.fit(X_train, y_train)\n",
    "        scores.append({\n",
    "            'model': name,\n",
    "            'best_score': clf.best_score_,\n",
    "            'best_params': clf.best_params_,\n",
    "            'best_estimator': clf.best_estimator_\n",
    "        })\n",
    "        \n",
    "    return scores"
   ]
  },
  {
   "cell_type": "markdown",
   "id": "334f2185",
   "metadata": {
    "papermill": {
     "duration": 0.026137,
     "end_time": "2022-11-15T14:01:25.603204",
     "exception": false,
     "start_time": "2022-11-15T14:01:25.577067",
     "status": "completed"
    },
    "tags": []
   },
   "source": [
    "Now create scaled and encoded dataset and call the function above:"
   ]
  },
  {
   "cell_type": "code",
   "execution_count": 28,
   "id": "b03f3550",
   "metadata": {
    "ExecuteTime": {
     "end_time": "2022-11-13T13:24:23.511044Z",
     "start_time": "2022-11-13T13:24:13.307778Z"
    },
    "execution": {
     "iopub.execute_input": "2022-11-15T14:01:25.658791Z",
     "iopub.status.busy": "2022-11-15T14:01:25.658230Z",
     "iopub.status.idle": "2022-11-15T14:01:28.201687Z",
     "shell.execute_reply": "2022-11-15T14:01:28.200723Z"
    },
    "papermill": {
     "duration": 2.57417,
     "end_time": "2022-11-15T14:01:28.203854",
     "exception": false,
     "start_time": "2022-11-15T14:01:25.629684",
     "status": "completed"
    },
    "scrolled": true,
    "tags": []
   },
   "outputs": [
    {
     "data": {
      "text/plain": [
       "[{'model': 'logistic_regression',\n",
       "  'best_score': 0.84886389616231,\n",
       "  'best_params': {'C': 6.2, 'max_iter': 1000, 'solver': 'lbfgs'},\n",
       "  'best_estimator': LogisticRegression(C=6.2, max_iter=1000, random_state=42)},\n",
       " {'model': 'elastic_net',\n",
       "  'best_score': 0.8412547683575051,\n",
       "  'best_params': {'alpha': 0.1, 'l1_ratio': 0.1},\n",
       "  'best_estimator': ElasticNet(alpha=0.1, l1_ratio=0.1, random_state=42)},\n",
       " {'model': 'knn',\n",
       "  'best_score': 0.8408234483038107,\n",
       "  'best_params': {'n_neighbors': 77, 'weights': 'uniform'},\n",
       "  'best_estimator': KNeighborsClassifier(n_neighbors=77)}]"
      ]
     },
     "execution_count": 28,
     "metadata": {},
     "output_type": "execute_result"
    }
   ],
   "source": [
    "X = scale_encode(data, StandardScaler())\n",
    "X_train, X_test, y_train, y_test = train_test_split(X, y, random_state=rs, test_size=0.2)\n",
    "estimators_comparison(X_train, y_train)"
   ]
  },
  {
   "cell_type": "markdown",
   "id": "9c0af095",
   "metadata": {
    "ExecuteTime": {
     "end_time": "2022-11-13T12:27:49.353751Z",
     "start_time": "2022-11-13T12:27:49.348927Z"
    },
    "papermill": {
     "duration": 0.02626,
     "end_time": "2022-11-15T14:01:28.256780",
     "exception": false,
     "start_time": "2022-11-15T14:01:28.230520",
     "status": "completed"
    },
    "tags": []
   },
   "source": [
    "As we see, LogisticRegression gives the best results. Find roc-auc score on test split."
   ]
  },
  {
   "cell_type": "code",
   "execution_count": 29,
   "id": "4e6e0bd7",
   "metadata": {
    "ExecuteTime": {
     "end_time": "2022-11-13T13:24:32.863183Z",
     "start_time": "2022-11-13T13:24:31.764007Z"
    },
    "execution": {
     "iopub.execute_input": "2022-11-15T14:01:28.313157Z",
     "iopub.status.busy": "2022-11-15T14:01:28.312356Z",
     "iopub.status.idle": "2022-11-15T14:01:29.008383Z",
     "shell.execute_reply": "2022-11-15T14:01:29.006675Z"
    },
    "papermill": {
     "duration": 0.729336,
     "end_time": "2022-11-15T14:01:29.012746",
     "exception": false,
     "start_time": "2022-11-15T14:01:28.283410",
     "status": "completed"
    },
    "tags": []
   },
   "outputs": [
    {
     "name": "stdout",
     "output_type": "stream",
     "text": [
      "Logistic Regression: 0.831447807094504\n"
     ]
    }
   ],
   "source": [
    "logreg = LogisticRegression(C=6.2, solver='lbfgs', max_iter=1000, random_state=rs, n_jobs=-1)\n",
    "logreg.fit(X, y)\n",
    "y_pred = logreg.predict_proba(X_test)[:,1]\n",
    "print(\"Logistic Regression:\", roc_auc_score(y_test, y_pred))"
   ]
  },
  {
   "cell_type": "markdown",
   "id": "4d2a01fe",
   "metadata": {
    "papermill": {
     "duration": 0.048438,
     "end_time": "2022-11-15T14:01:29.130503",
     "exception": false,
     "start_time": "2022-11-15T14:01:29.082065",
     "status": "completed"
    },
    "tags": []
   },
   "source": [
    "Now try the model on the Kaggle dataset."
   ]
  },
  {
   "cell_type": "code",
   "execution_count": 30,
   "id": "4cd46295",
   "metadata": {
    "ExecuteTime": {
     "end_time": "2022-11-13T13:25:29.660998Z",
     "start_time": "2022-11-13T13:25:27.87636Z"
    },
    "execution": {
     "iopub.execute_input": "2022-11-15T14:01:29.185962Z",
     "iopub.status.busy": "2022-11-15T14:01:29.185278Z",
     "iopub.status.idle": "2022-11-15T14:01:29.247005Z",
     "shell.execute_reply": "2022-11-15T14:01:29.245387Z"
    },
    "papermill": {
     "duration": 0.093933,
     "end_time": "2022-11-15T14:01:29.251300",
     "exception": false,
     "start_time": "2022-11-15T14:01:29.157367",
     "status": "completed"
    },
    "tags": []
   },
   "outputs": [],
   "source": [
    "X_valid = scale_encode(test_data, StandardScaler())\n",
    "submission = pd.read_csv(input_path + \"submission.csv\")\n",
    "submission['Churn'] = logreg.predict_proba(X_valid)[:, 1]\n",
    "submission.to_csv('./logreg.csv', index=False)"
   ]
  },
  {
   "cell_type": "markdown",
   "id": "f071fb08",
   "metadata": {
    "papermill": {
     "duration": 0.041945,
     "end_time": "2022-11-15T14:01:29.363265",
     "exception": false,
     "start_time": "2022-11-15T14:01:29.321320",
     "status": "completed"
    },
    "tags": []
   },
   "source": [
    "**Score on Kaggle test dataset with model fitted hyperparameter C=6.2 and 'lbfgs' solver is 0.84573**"
   ]
  },
  {
   "cell_type": "markdown",
   "id": "ec33df94",
   "metadata": {
    "papermill": {
     "duration": 0.026664,
     "end_time": "2022-11-15T14:01:29.417420",
     "exception": false,
     "start_time": "2022-11-15T14:01:29.390756",
     "status": "completed"
    },
    "tags": []
   },
   "source": [
    "Add the Kaggle result to dictionary to compare models performance in the end of the report."
   ]
  },
  {
   "cell_type": "code",
   "execution_count": 31,
   "id": "d5cf90c2",
   "metadata": {
    "ExecuteTime": {
     "end_time": "2022-11-13T15:23:54.375423Z",
     "start_time": "2022-11-13T15:23:54.371682Z"
    },
    "execution": {
     "iopub.execute_input": "2022-11-15T14:01:29.472543Z",
     "iopub.status.busy": "2022-11-15T14:01:29.472159Z",
     "iopub.status.idle": "2022-11-15T14:01:29.476985Z",
     "shell.execute_reply": "2022-11-15T14:01:29.475965Z"
    },
    "papermill": {
     "duration": 0.03513,
     "end_time": "2022-11-15T14:01:29.479140",
     "exception": false,
     "start_time": "2022-11-15T14:01:29.444010",
     "status": "completed"
    },
    "tags": []
   },
   "outputs": [],
   "source": [
    "kaggle_scores = dict()\n",
    "kaggle_scores['LogisticRegression'] = [0.84573]"
   ]
  },
  {
   "cell_type": "markdown",
   "id": "f3cbf512",
   "metadata": {
    "papermill": {
     "duration": 0.026444,
     "end_time": "2022-11-15T14:01:29.532662",
     "exception": false,
     "start_time": "2022-11-15T14:01:29.506218",
     "status": "completed"
    },
    "tags": []
   },
   "source": [
    "## *4.2. LogisticRegressionCV*"
   ]
  },
  {
   "cell_type": "markdown",
   "id": "bcf5260f",
   "metadata": {
    "ExecuteTime": {
     "end_time": "2022-11-10T17:43:25.094874Z",
     "start_time": "2022-11-10T17:43:24.546306Z"
    },
    "papermill": {
     "duration": 0.02626,
     "end_time": "2022-11-15T14:01:29.585636",
     "exception": false,
     "start_time": "2022-11-15T14:01:29.559376",
     "status": "completed"
    },
    "tags": []
   },
   "source": [
    "Now let's check the performance of LogisticRegressionCV on the whole train dataset."
   ]
  },
  {
   "cell_type": "code",
   "execution_count": 32,
   "id": "0a90383a",
   "metadata": {
    "execution": {
     "iopub.execute_input": "2022-11-15T14:01:29.641012Z",
     "iopub.status.busy": "2022-11-15T14:01:29.639833Z",
     "iopub.status.idle": "2022-11-15T14:01:29.646108Z",
     "shell.execute_reply": "2022-11-15T14:01:29.645273Z"
    },
    "papermill": {
     "duration": 0.036283,
     "end_time": "2022-11-15T14:01:29.648364",
     "exception": false,
     "start_time": "2022-11-15T14:01:29.612081",
     "status": "completed"
    },
    "tags": []
   },
   "outputs": [],
   "source": [
    "c_values = np.linspace(0.1, 10, 100)\n",
    "logregCV = LogisticRegressionCV(Cs=c_values, cv=5, max_iter=1000, n_jobs=-1, refit=True, scoring='roc_auc', random_state=rs)"
   ]
  },
  {
   "cell_type": "code",
   "execution_count": 33,
   "id": "050d2bb3",
   "metadata": {
    "ExecuteTime": {
     "end_time": "2022-11-13T13:43:06.743563Z",
     "start_time": "2022-11-13T13:42:59.19314Z"
    },
    "execution": {
     "iopub.execute_input": "2022-11-15T14:01:29.703508Z",
     "iopub.status.busy": "2022-11-15T14:01:29.703148Z",
     "iopub.status.idle": "2022-11-15T14:01:32.252153Z",
     "shell.execute_reply": "2022-11-15T14:01:32.250656Z"
    },
    "papermill": {
     "duration": 2.580981,
     "end_time": "2022-11-15T14:01:32.256211",
     "exception": false,
     "start_time": "2022-11-15T14:01:29.675230",
     "status": "completed"
    },
    "tags": []
   },
   "outputs": [
    {
     "name": "stdout",
     "output_type": "stream",
     "text": [
      "Logistic Regression on the dataset with custom encoding is 0.8490287556683878 with hyperparameter C = 7.2\n"
     ]
    }
   ],
   "source": [
    "logregCV.fit(X, y)\n",
    "logregCV.predict_proba(X)\n",
    "print(f'Logistic Regression on the dataset with custom encoding is {logregCV.score(X, y)} with hyperparameter C = {logregCV.C_[0]}')"
   ]
  },
  {
   "cell_type": "code",
   "execution_count": 34,
   "id": "abdb92af",
   "metadata": {
    "execution": {
     "iopub.execute_input": "2022-11-15T14:01:32.378618Z",
     "iopub.status.busy": "2022-11-15T14:01:32.378220Z",
     "iopub.status.idle": "2022-11-15T14:01:32.403257Z",
     "shell.execute_reply": "2022-11-15T14:01:32.401592Z"
    },
    "papermill": {
     "duration": 0.081486,
     "end_time": "2022-11-15T14:01:32.407701",
     "exception": false,
     "start_time": "2022-11-15T14:01:32.326215",
     "status": "completed"
    },
    "tags": []
   },
   "outputs": [],
   "source": [
    "submission = pd.read_csv(input_path + \"submission.csv\")\n",
    "submission['Churn'] = logregCV.predict_proba(X_valid)[:, 1]\n",
    "submission.to_csv('./logregCV.csv', index=False)"
   ]
  },
  {
   "cell_type": "markdown",
   "id": "4038c967",
   "metadata": {
    "papermill": {
     "duration": 0.045744,
     "end_time": "2022-11-15T14:01:32.522839",
     "exception": false,
     "start_time": "2022-11-15T14:01:32.477095",
     "status": "completed"
    },
    "tags": []
   },
   "source": [
    "**Score on Kaggle test dataset is 0.84574**"
   ]
  },
  {
   "cell_type": "code",
   "execution_count": 35,
   "id": "1d50214f",
   "metadata": {
    "execution": {
     "iopub.execute_input": "2022-11-15T14:01:32.578377Z",
     "iopub.status.busy": "2022-11-15T14:01:32.577962Z",
     "iopub.status.idle": "2022-11-15T14:01:32.582916Z",
     "shell.execute_reply": "2022-11-15T14:01:32.581917Z"
    },
    "papermill": {
     "duration": 0.035192,
     "end_time": "2022-11-15T14:01:32.585167",
     "exception": false,
     "start_time": "2022-11-15T14:01:32.549975",
     "status": "completed"
    },
    "tags": []
   },
   "outputs": [],
   "source": [
    "kaggle_scores['LogisticRegressionCV'] = [0.84574]"
   ]
  },
  {
   "cell_type": "markdown",
   "id": "fe0d9851",
   "metadata": {
    "papermill": {
     "duration": 0.026711,
     "end_time": "2022-11-15T14:01:32.638629",
     "exception": false,
     "start_time": "2022-11-15T14:01:32.611918",
     "status": "completed"
    },
    "tags": []
   },
   "source": [
    "Clearly, both runs gave very close results, and the best one is 0.84574 obtained using LogisticRegressionCV with hyperparameter C=7.2.<br>This is a fairly good rate which means that the Logistic Regression model would predict clients churn with 85% probability."
   ]
  },
  {
   "cell_type": "markdown",
   "id": "da97495f",
   "metadata": {
    "papermill": {
     "duration": 0.026503,
     "end_time": "2022-11-15T14:01:32.691987",
     "exception": false,
     "start_time": "2022-11-15T14:01:32.665484",
     "status": "completed"
    },
    "tags": []
   },
   "source": [
    "# 5. Gradient boosting"
   ]
  },
  {
   "cell_type": "markdown",
   "id": "93f59659",
   "metadata": {
    "ExecuteTime": {
     "end_time": "2022-11-13T13:58:05.943898Z",
     "start_time": "2022-11-13T13:58:05.939019Z"
    },
    "papermill": {
     "duration": 0.026388,
     "end_time": "2022-11-15T14:01:32.745045",
     "exception": false,
     "start_time": "2022-11-15T14:01:32.718657",
     "status": "completed"
    },
    "tags": []
   },
   "source": [
    "This section focuses on three gradient boosting models: GradientBoostingClassifier from sklearn, CatBoostClassifier and XGBClassifier. All three models don't need numerical features scaling, and it's possible to use for them the custom-encoded dataset, prepared in *Section 3.2. A custom-encoded dataset for gradient boosting*. As for CatBoost, we'll also try to find model performance with default parameters and original dataset."
   ]
  },
  {
   "cell_type": "markdown",
   "id": "474a3d83",
   "metadata": {
    "papermill": {
     "duration": 0.026443,
     "end_time": "2022-11-15T14:01:32.798016",
     "exception": false,
     "start_time": "2022-11-15T14:01:32.771573",
     "status": "completed"
    },
    "tags": []
   },
   "source": [
    "## *5.1. GradientBoostingClassifier*"
   ]
  },
  {
   "cell_type": "code",
   "execution_count": 36,
   "id": "274f0dc8",
   "metadata": {
    "ExecuteTime": {
     "end_time": "2022-11-13T17:03:09.688721Z",
     "start_time": "2022-11-13T17:03:09.683876Z"
    },
    "execution": {
     "iopub.execute_input": "2022-11-15T14:01:32.853768Z",
     "iopub.status.busy": "2022-11-15T14:01:32.853360Z",
     "iopub.status.idle": "2022-11-15T14:01:32.861842Z",
     "shell.execute_reply": "2022-11-15T14:01:32.860747Z"
    },
    "papermill": {
     "duration": 0.03909,
     "end_time": "2022-11-15T14:01:32.864313",
     "exception": false,
     "start_time": "2022-11-15T14:01:32.825223",
     "status": "completed"
    },
    "tags": []
   },
   "outputs": [],
   "source": [
    "X_train, X_test, y_train, y_test = train_test_split(custom_data, y, random_state=rs, test_size=0.2)"
   ]
  },
  {
   "cell_type": "code",
   "execution_count": 37,
   "id": "79e8c947",
   "metadata": {
    "ExecuteTime": {
     "end_time": "2022-11-13T17:03:10.642045Z",
     "start_time": "2022-11-13T17:03:10.149355Z"
    },
    "execution": {
     "iopub.execute_input": "2022-11-15T14:01:32.921210Z",
     "iopub.status.busy": "2022-11-15T14:01:32.920733Z",
     "iopub.status.idle": "2022-11-15T14:01:33.543236Z",
     "shell.execute_reply": "2022-11-15T14:01:33.542100Z"
    },
    "papermill": {
     "duration": 0.654581,
     "end_time": "2022-11-15T14:01:33.545923",
     "exception": false,
     "start_time": "2022-11-15T14:01:32.891342",
     "status": "completed"
    },
    "tags": []
   },
   "outputs": [],
   "source": [
    "gbc = GradientBoostingClassifier()\n",
    "gbc.fit(X_train, y_train)\n",
    "gbc_params = {\n",
    "    'loss': ['deviance'], # ['exponential', 'deviance'],\n",
    "    'n_estimators': [100], # np.arange(50, 200, 10), # [190],\n",
    "    'learning_rate': [0.09], # np.linspace(0.01, 0.1, 10),\n",
    "    'max_depth': [3], # np.arange(3, 9),\n",
    "    'min_samples_leaf': [90], # np.arange(50, 160, 10),\n",
    "    'max_features': ['sqrt'], # ['sqrt', 'log2'],\n",
    "    'random_state': [rs]\n",
    "}"
   ]
  },
  {
   "cell_type": "code",
   "execution_count": 38,
   "id": "118eb50e",
   "metadata": {
    "ExecuteTime": {
     "end_time": "2022-11-13T17:03:13.155132Z",
     "start_time": "2022-11-13T17:03:11.435914Z"
    },
    "execution": {
     "iopub.execute_input": "2022-11-15T14:01:33.602775Z",
     "iopub.status.busy": "2022-11-15T14:01:33.602107Z",
     "iopub.status.idle": "2022-11-15T14:01:34.420195Z",
     "shell.execute_reply": "2022-11-15T14:01:34.419112Z"
    },
    "papermill": {
     "duration": 0.849021,
     "end_time": "2022-11-15T14:01:34.422604",
     "exception": false,
     "start_time": "2022-11-15T14:01:33.573583",
     "status": "completed"
    },
    "tags": []
   },
   "outputs": [
    {
     "data": {
      "text/plain": [
       "{'learning_rate': 0.09,\n",
       " 'loss': 'deviance',\n",
       " 'max_depth': 3,\n",
       " 'max_features': 'sqrt',\n",
       " 'min_samples_leaf': 90,\n",
       " 'n_estimators': 100,\n",
       " 'random_state': 42}"
      ]
     },
     "execution_count": 38,
     "metadata": {},
     "output_type": "execute_result"
    }
   ],
   "source": [
    "clf_gbc = GridSearchCV(gbc, param_grid=gbc_params, cv=5, scoring='roc_auc', n_jobs=-1)\n",
    "clf_gbc.fit(X_train, y_train)\n",
    "clf_gbc.best_params_"
   ]
  },
  {
   "cell_type": "code",
   "execution_count": 39,
   "id": "4b511c45",
   "metadata": {
    "ExecuteTime": {
     "end_time": "2022-11-13T17:03:14.521634Z",
     "start_time": "2022-11-13T17:03:14.507987Z"
    },
    "execution": {
     "iopub.execute_input": "2022-11-15T14:01:34.479733Z",
     "iopub.status.busy": "2022-11-15T14:01:34.479323Z",
     "iopub.status.idle": "2022-11-15T14:01:34.493583Z",
     "shell.execute_reply": "2022-11-15T14:01:34.491913Z"
    },
    "papermill": {
     "duration": 0.045372,
     "end_time": "2022-11-15T14:01:34.495941",
     "exception": false,
     "start_time": "2022-11-15T14:01:34.450569",
     "status": "completed"
    },
    "tags": []
   },
   "outputs": [
    {
     "name": "stdout",
     "output_type": "stream",
     "text": [
      "GradientBoostingClassifier: 0.828430195509831\n"
     ]
    }
   ],
   "source": [
    "y_pred=clf_gbc.predict_proba(X_test)[:,1]\n",
    "print(\"GradientBoostingClassifier:\", roc_auc_score(y_test, y_pred))"
   ]
  },
  {
   "cell_type": "code",
   "execution_count": 40,
   "id": "4eb903fc",
   "metadata": {
    "ExecuteTime": {
     "end_time": "2022-11-13T15:12:48.330332Z",
     "start_time": "2022-11-13T15:12:46.896676Z"
    },
    "execution": {
     "iopub.execute_input": "2022-11-15T14:01:34.552437Z",
     "iopub.status.busy": "2022-11-15T14:01:34.551573Z",
     "iopub.status.idle": "2022-11-15T14:01:34.571247Z",
     "shell.execute_reply": "2022-11-15T14:01:34.570257Z"
    },
    "papermill": {
     "duration": 0.050413,
     "end_time": "2022-11-15T14:01:34.573635",
     "exception": false,
     "start_time": "2022-11-15T14:01:34.523222",
     "status": "completed"
    },
    "tags": []
   },
   "outputs": [],
   "source": [
    "submission = pd.read_csv(input_path + \"submission.csv\")\n",
    "submission['Churn'] = clf_gbc.predict_proba(custom_test_data)[:, 1]\n",
    "submission.to_csv('./gbc_custom.csv', index=False)"
   ]
  },
  {
   "cell_type": "markdown",
   "id": "34782c4d",
   "metadata": {
    "papermill": {
     "duration": 0.026667,
     "end_time": "2022-11-15T14:01:34.627301",
     "exception": false,
     "start_time": "2022-11-15T14:01:34.600634",
     "status": "completed"
    },
    "tags": []
   },
   "source": [
    "**Score on Kaggle test dataset with model fitted on the dataset with custom encoding is 0.8523**<br>"
   ]
  },
  {
   "cell_type": "code",
   "execution_count": 41,
   "id": "0386f320",
   "metadata": {
    "ExecuteTime": {
     "end_time": "2022-11-13T17:04:10.288483Z",
     "start_time": "2022-11-13T17:04:10.285115Z"
    },
    "execution": {
     "iopub.execute_input": "2022-11-15T14:01:34.683461Z",
     "iopub.status.busy": "2022-11-15T14:01:34.682502Z",
     "iopub.status.idle": "2022-11-15T14:01:34.687837Z",
     "shell.execute_reply": "2022-11-15T14:01:34.686927Z"
    },
    "papermill": {
     "duration": 0.035697,
     "end_time": "2022-11-15T14:01:34.690151",
     "exception": false,
     "start_time": "2022-11-15T14:01:34.654454",
     "status": "completed"
    },
    "tags": []
   },
   "outputs": [],
   "source": [
    "kaggle_scores['GradBoost_custom'] = [0.8523]"
   ]
  },
  {
   "cell_type": "markdown",
   "id": "3799bd86",
   "metadata": {
    "papermill": {
     "duration": 0.026634,
     "end_time": "2022-11-15T14:01:34.743827",
     "exception": false,
     "start_time": "2022-11-15T14:01:34.717193",
     "status": "completed"
    },
    "tags": []
   },
   "source": [
    "## *5.2. CatBoostClassifier*"
   ]
  },
  {
   "cell_type": "markdown",
   "id": "d0ed09c3",
   "metadata": {
    "papermill": {
     "duration": 0.026461,
     "end_time": "2022-11-15T14:01:34.797191",
     "exception": false,
     "start_time": "2022-11-15T14:01:34.770730",
     "status": "completed"
    },
    "tags": []
   },
   "source": [
    "Next try CatBoost with default parameters."
   ]
  },
  {
   "cell_type": "code",
   "execution_count": 42,
   "id": "709902f8",
   "metadata": {
    "ExecuteTime": {
     "end_time": "2022-11-13T15:29:52.537938Z",
     "start_time": "2022-11-13T15:29:52.532294Z"
    },
    "execution": {
     "iopub.execute_input": "2022-11-15T14:01:34.853130Z",
     "iopub.status.busy": "2022-11-15T14:01:34.852742Z",
     "iopub.status.idle": "2022-11-15T14:01:34.862637Z",
     "shell.execute_reply": "2022-11-15T14:01:34.861870Z"
    },
    "papermill": {
     "duration": 0.040894,
     "end_time": "2022-11-15T14:01:34.864888",
     "exception": false,
     "start_time": "2022-11-15T14:01:34.823994",
     "status": "completed"
    },
    "scrolled": true,
    "tags": []
   },
   "outputs": [],
   "source": [
    "X_cb = data[feature_cols]\n",
    "X_train, X_test, y_train, y_test = train_test_split(X_cb, y, random_state=rs, test_size=0.2)"
   ]
  },
  {
   "cell_type": "code",
   "execution_count": 43,
   "id": "bc825565",
   "metadata": {
    "ExecuteTime": {
     "end_time": "2022-11-13T15:31:25.359802Z",
     "start_time": "2022-11-13T15:31:20.346409Z"
    },
    "execution": {
     "iopub.execute_input": "2022-11-15T14:01:34.920523Z",
     "iopub.status.busy": "2022-11-15T14:01:34.919762Z",
     "iopub.status.idle": "2022-11-15T14:01:46.594791Z",
     "shell.execute_reply": "2022-11-15T14:01:46.593701Z"
    },
    "papermill": {
     "duration": 11.705896,
     "end_time": "2022-11-15T14:01:46.597631",
     "exception": false,
     "start_time": "2022-11-15T14:01:34.891735",
     "status": "completed"
    },
    "tags": []
   },
   "outputs": [
    {
     "data": {
      "text/plain": [
       "0.821409111478468"
      ]
     },
     "execution_count": 43,
     "metadata": {},
     "output_type": "execute_result"
    }
   ],
   "source": [
    "cb_default = CatBoostClassifier(cat_features=cat_cols, random_state=rs)\n",
    "cb_default.fit(X_train, y_train, plot=False, verbose=False)\n",
    "y_pred = cb_default.predict_proba(X_test)[:, -1]\n",
    "roc_auc_score(y_test, y_pred)"
   ]
  },
  {
   "cell_type": "code",
   "execution_count": 44,
   "id": "d469d8e3",
   "metadata": {
    "ExecuteTime": {
     "end_time": "2022-11-13T15:34:38.330914Z",
     "start_time": "2022-11-13T15:34:32.688248Z"
    },
    "execution": {
     "iopub.execute_input": "2022-11-15T14:01:46.655229Z",
     "iopub.status.busy": "2022-11-15T14:01:46.654796Z",
     "iopub.status.idle": "2022-11-15T14:01:46.687694Z",
     "shell.execute_reply": "2022-11-15T14:01:46.686853Z"
    },
    "papermill": {
     "duration": 0.064483,
     "end_time": "2022-11-15T14:01:46.690151",
     "exception": false,
     "start_time": "2022-11-15T14:01:46.625668",
     "status": "completed"
    },
    "tags": []
   },
   "outputs": [],
   "source": [
    "X_cb_valid = test_data[feature_cols]\n",
    "submission = pd.read_csv(input_path + \"submission.csv\")\n",
    "submission['Churn'] = cb_default.predict_proba(X_cb_valid)[:, 1]\n",
    "submission.to_csv('./catb_default.csv', index=False)"
   ]
  },
  {
   "cell_type": "markdown",
   "id": "af12bb91",
   "metadata": {
    "papermill": {
     "duration": 0.02748,
     "end_time": "2022-11-15T14:01:46.745418",
     "exception": false,
     "start_time": "2022-11-15T14:01:46.717938",
     "status": "completed"
    },
    "tags": []
   },
   "source": [
    "Now we'll try to find optimal parameters on train dataset with custom encoding."
   ]
  },
  {
   "cell_type": "code",
   "execution_count": 45,
   "id": "51cbf48c",
   "metadata": {
    "ExecuteTime": {
     "end_time": "2022-11-13T15:48:15.646195Z",
     "start_time": "2022-11-13T15:48:15.643244Z"
    },
    "execution": {
     "iopub.execute_input": "2022-11-15T14:01:46.805026Z",
     "iopub.status.busy": "2022-11-15T14:01:46.804022Z",
     "iopub.status.idle": "2022-11-15T14:01:46.813740Z",
     "shell.execute_reply": "2022-11-15T14:01:46.812634Z"
    },
    "papermill": {
     "duration": 0.041959,
     "end_time": "2022-11-15T14:01:46.816385",
     "exception": false,
     "start_time": "2022-11-15T14:01:46.774426",
     "status": "completed"
    },
    "tags": []
   },
   "outputs": [],
   "source": [
    "X_cb_optimal = custom_data[feature_cols]\n",
    "X_train, X_test, y_train, y_test = train_test_split(X_cb_optimal, y, random_state=rs, test_size=0.2)"
   ]
  },
  {
   "cell_type": "code",
   "execution_count": 46,
   "id": "3f224bf6",
   "metadata": {
    "ExecuteTime": {
     "end_time": "2022-11-13T15:49:38.662239Z",
     "start_time": "2022-11-13T15:49:35.917343Z"
    },
    "execution": {
     "iopub.execute_input": "2022-11-15T14:01:46.874684Z",
     "iopub.status.busy": "2022-11-15T14:01:46.874296Z",
     "iopub.status.idle": "2022-11-15T14:01:50.372010Z",
     "shell.execute_reply": "2022-11-15T14:01:50.370945Z"
    },
    "papermill": {
     "duration": 3.529609,
     "end_time": "2022-11-15T14:01:50.374490",
     "exception": false,
     "start_time": "2022-11-15T14:01:46.844881",
     "status": "completed"
    },
    "tags": []
   },
   "outputs": [
    {
     "data": {
      "text/plain": [
       "{'loss_function': 'Logloss',\n",
       " 'logging_level': 'Silent',\n",
       " 'eval_metric': 'AUC:hints=skip_train~false',\n",
       " 'random_state': 42,\n",
       " 'early_stopping_rounds': 20,\n",
       " 'cat_features': ['Sex',\n",
       "  'IsSeniorCitizen',\n",
       "  'HasPartner',\n",
       "  'HasChild',\n",
       "  'HasPhoneService',\n",
       "  'HasMultiplePhoneNumbers',\n",
       "  'HasInternetService',\n",
       "  'HasOnlineSecurityService',\n",
       "  'HasOnlineBackup',\n",
       "  'HasDeviceProtection',\n",
       "  'HasTechSupportAccess',\n",
       "  'HasOnlineTV',\n",
       "  'HasMovieSubscription',\n",
       "  'HasContractPhone',\n",
       "  'IsBillingPaperless',\n",
       "  'PaymentMethod'],\n",
       " 'min_data_in_leaf': 120,\n",
       " 'depth': 3,\n",
       " 'random_strength': 1,\n",
       " 'iterations': 110,\n",
       " 'learning_rate': 0.079,\n",
       " 'l2_leaf_reg': 0.79,\n",
       " 'grow_policy': 'Lossguide',\n",
       " 'bootstrap_type': 'Bayesian'}"
      ]
     },
     "execution_count": 46,
     "metadata": {},
     "output_type": "execute_result"
    }
   ],
   "source": [
    "cb_optimal = CatBoostClassifier(\n",
    "    cat_features = cat_cols,\n",
    "    loss_function='Logloss',\n",
    "    eval_metric='AUC:hints=skip_train~false', \n",
    "    early_stopping_rounds=20,\n",
    "    logging_level='Silent', \n",
    "    random_state=rs\n",
    ")\n",
    "param_grid = {\n",
    "    'bootstrap_type': ['Bayesian'], # ['Bayesian', 'Bernoulli'],\n",
    "    'learning_rate': [0.079], # np.linspace(0.01, 0.1, 100), # [0.0506],\n",
    "    'l2_leaf_reg': [0.79], # np.linspace(0.01, 1, 100), # [0.05],\n",
    "    'iterations': [110], # np.arange(50, 250, 10), # [190], [240],\n",
    "    'max_depth': [3], # np.arange(2, 6), # [3],\n",
    "    'grow_policy': ['Lossguide'], # ['SymmetricTree', 'Depthwise', 'Lossguide']\n",
    "    'min_data_in_leaf': [120], # np.arange(100, 200, 10), # [120], [200]\n",
    "    'random_strength': [1] # np.arange(1, 4)\n",
    "}\n",
    "cb_optimal.grid_search(param_grid, X_train, y_train, cv=5, plot=False, verbose=False, refit=True)\n",
    "cb_optimal.get_params()"
   ]
  },
  {
   "cell_type": "code",
   "execution_count": 47,
   "id": "e72254e5",
   "metadata": {
    "ExecuteTime": {
     "end_time": "2022-11-13T15:49:42.240995Z",
     "start_time": "2022-11-13T15:49:42.23592Z"
    },
    "execution": {
     "iopub.execute_input": "2022-11-15T14:01:50.430799Z",
     "iopub.status.busy": "2022-11-15T14:01:50.430061Z",
     "iopub.status.idle": "2022-11-15T14:01:50.873586Z",
     "shell.execute_reply": "2022-11-15T14:01:50.872412Z"
    },
    "papermill": {
     "duration": 0.474139,
     "end_time": "2022-11-15T14:01:50.875858",
     "exception": false,
     "start_time": "2022-11-15T14:01:50.401719",
     "status": "completed"
    },
    "tags": []
   },
   "outputs": [
    {
     "data": {
      "text/plain": [
       "0.8375476768777532"
      ]
     },
     "execution_count": 47,
     "metadata": {},
     "output_type": "execute_result"
    }
   ],
   "source": [
    "cb_optimal.fit(X_cb_optimal, y, verbose=False)\n",
    "y_pred = cb_optimal.predict_proba(X_test)[:, -1]\n",
    "roc_auc_score(y_test, y_pred)"
   ]
  },
  {
   "cell_type": "code",
   "execution_count": 48,
   "id": "04f3fad6",
   "metadata": {
    "ExecuteTime": {
     "end_time": "2022-11-13T15:53:54.016012Z",
     "start_time": "2022-11-13T15:53:53.300448Z"
    },
    "execution": {
     "iopub.execute_input": "2022-11-15T14:01:50.931613Z",
     "iopub.status.busy": "2022-11-15T14:01:50.931209Z",
     "iopub.status.idle": "2022-11-15T14:01:50.958692Z",
     "shell.execute_reply": "2022-11-15T14:01:50.957713Z"
    },
    "papermill": {
     "duration": 0.058183,
     "end_time": "2022-11-15T14:01:50.961328",
     "exception": false,
     "start_time": "2022-11-15T14:01:50.903145",
     "status": "completed"
    },
    "tags": []
   },
   "outputs": [],
   "source": [
    "X_cb_valid = custom_test_data[feature_cols]\n",
    "submission = pd.read_csv(input_path + \"submission.csv\")\n",
    "submission['Churn'] = cb_optimal.predict_proba(X_cb_valid)[:, 1]\n",
    "submission.to_csv('./catb_optimal.csv', index=False)"
   ]
  },
  {
   "cell_type": "markdown",
   "id": "1b619907",
   "metadata": {
    "papermill": {
     "duration": 0.026957,
     "end_time": "2022-11-15T14:01:51.016002",
     "exception": false,
     "start_time": "2022-11-15T14:01:50.989045",
     "status": "completed"
    },
    "tags": []
   },
   "source": [
    "**Score on Kaggle test dataset with default CatBoost model is 0.85148**<br>\n",
    "**Score on Kaggle test dataset with model fitted on the dataset with custom encoding is 0.85413**"
   ]
  },
  {
   "cell_type": "code",
   "execution_count": 49,
   "id": "2692f1bf",
   "metadata": {
    "execution": {
     "iopub.execute_input": "2022-11-15T14:01:51.073163Z",
     "iopub.status.busy": "2022-11-15T14:01:51.072778Z",
     "iopub.status.idle": "2022-11-15T14:01:51.077657Z",
     "shell.execute_reply": "2022-11-15T14:01:51.076570Z"
    },
    "papermill": {
     "duration": 0.036201,
     "end_time": "2022-11-15T14:01:51.079755",
     "exception": false,
     "start_time": "2022-11-15T14:01:51.043554",
     "status": "completed"
    },
    "tags": []
   },
   "outputs": [],
   "source": [
    "kaggle_scores['CatBoost_default'] = [0.85148]\n",
    "kaggle_scores['CatBoost_custom'] = [0.85413]"
   ]
  },
  {
   "cell_type": "markdown",
   "id": "ae1b7e38",
   "metadata": {
    "papermill": {
     "duration": 0.027018,
     "end_time": "2022-11-15T14:01:51.134086",
     "exception": false,
     "start_time": "2022-11-15T14:01:51.107068",
     "status": "completed"
    },
    "tags": []
   },
   "source": [
    "## *5.3. XGBClassifier*"
   ]
  },
  {
   "cell_type": "code",
   "execution_count": 50,
   "id": "70d69d19",
   "metadata": {
    "execution": {
     "iopub.execute_input": "2022-11-15T14:01:51.191357Z",
     "iopub.status.busy": "2022-11-15T14:01:51.190959Z",
     "iopub.status.idle": "2022-11-15T14:01:51.200238Z",
     "shell.execute_reply": "2022-11-15T14:01:51.199403Z"
    },
    "papermill": {
     "duration": 0.040055,
     "end_time": "2022-11-15T14:01:51.202446",
     "exception": false,
     "start_time": "2022-11-15T14:01:51.162391",
     "status": "completed"
    },
    "tags": []
   },
   "outputs": [],
   "source": [
    "X_xgb_custom = custom_data[feature_cols]\n",
    "X_train, X_test, y_train, y_test = train_test_split(X_xgb_custom, y, random_state=rs, test_size=0.2)"
   ]
  },
  {
   "cell_type": "code",
   "execution_count": 51,
   "id": "a3460340",
   "metadata": {
    "execution": {
     "iopub.execute_input": "2022-11-15T14:01:51.258835Z",
     "iopub.status.busy": "2022-11-15T14:01:51.258429Z",
     "iopub.status.idle": "2022-11-15T14:01:53.525598Z",
     "shell.execute_reply": "2022-11-15T14:01:53.524249Z"
    },
    "papermill": {
     "duration": 2.298581,
     "end_time": "2022-11-15T14:01:53.528222",
     "exception": false,
     "start_time": "2022-11-15T14:01:51.229641",
     "status": "completed"
    },
    "tags": []
   },
   "outputs": [
    {
     "data": {
      "text/plain": [
       "0.84848121933669"
      ]
     },
     "execution_count": 51,
     "metadata": {},
     "output_type": "execute_result"
    }
   ],
   "source": [
    "param_grid = {\n",
    "    \"max_depth\": [3], # [3, 4, 5, 7],\n",
    "    \"learning_rate\": [0.1], # [0.1, 0.01, 0.05],\n",
    "    \"gamma\": [1], # [0, 0.25, 1],\n",
    "    \"reg_lambda\": [100], # [0, 1, 10],\n",
    "    \"scale_pos_weight\": [0.5], # [1, 3, 5],\n",
    "    \"subsample\": [0.8],\n",
    "    \"colsample_bytree\": [0.5],\n",
    "}\n",
    "xgb_model = XGBClassifier(objective=\"binary:logistic\", random_state=rs)\n",
    "clf_xgb = GridSearchCV(xgb_model, param_grid, n_jobs=-1, cv=5, scoring=\"roc_auc\")\n",
    "clf_xgb.fit(X_train, y_train)\n",
    "clf_xgb.best_score_"
   ]
  },
  {
   "cell_type": "code",
   "execution_count": 52,
   "id": "acb9b7b4",
   "metadata": {
    "execution": {
     "iopub.execute_input": "2022-11-15T14:01:53.587355Z",
     "iopub.status.busy": "2022-11-15T14:01:53.586619Z",
     "iopub.status.idle": "2022-11-15T14:01:53.602959Z",
     "shell.execute_reply": "2022-11-15T14:01:53.600848Z"
    },
    "papermill": {
     "duration": 0.047783,
     "end_time": "2022-11-15T14:01:53.605509",
     "exception": false,
     "start_time": "2022-11-15T14:01:53.557726",
     "status": "completed"
    },
    "tags": []
   },
   "outputs": [
    {
     "data": {
      "text/plain": [
       "0.8248607788993453"
      ]
     },
     "execution_count": 52,
     "metadata": {},
     "output_type": "execute_result"
    }
   ],
   "source": [
    "y_pred = clf_xgb.predict_proba(X_test)[:, 1]\n",
    "roc_auc_score(y_test, y_pred)"
   ]
  },
  {
   "cell_type": "code",
   "execution_count": 53,
   "id": "c66a77f4",
   "metadata": {
    "execution": {
     "iopub.execute_input": "2022-11-15T14:01:53.664441Z",
     "iopub.status.busy": "2022-11-15T14:01:53.664036Z",
     "iopub.status.idle": "2022-11-15T14:01:53.686292Z",
     "shell.execute_reply": "2022-11-15T14:01:53.685365Z"
    },
    "papermill": {
     "duration": 0.05415,
     "end_time": "2022-11-15T14:01:53.688839",
     "exception": false,
     "start_time": "2022-11-15T14:01:53.634689",
     "status": "completed"
    },
    "tags": []
   },
   "outputs": [],
   "source": [
    "X_xgb_valid = custom_test_data[feature_cols]\n",
    "submission = pd.read_csv(input_path + \"submission.csv\")\n",
    "submission['Churn'] = clf_xgb.predict_proba(X_xgb_valid)[:, 1]\n",
    "submission.to_csv('./xgb_custom.csv', index=False)"
   ]
  },
  {
   "cell_type": "markdown",
   "id": "5fedf20c",
   "metadata": {
    "papermill": {
     "duration": 0.027374,
     "end_time": "2022-11-15T14:01:53.745590",
     "exception": false,
     "start_time": "2022-11-15T14:01:53.718216",
     "status": "completed"
    },
    "tags": []
   },
   "source": [
    "**Score on Kaggle test dataset with model fitted on the dataset with custom encoding is 0.84967**"
   ]
  },
  {
   "cell_type": "code",
   "execution_count": 54,
   "id": "3d713161",
   "metadata": {
    "execution": {
     "iopub.execute_input": "2022-11-15T14:01:53.805659Z",
     "iopub.status.busy": "2022-11-15T14:01:53.805250Z",
     "iopub.status.idle": "2022-11-15T14:01:53.810229Z",
     "shell.execute_reply": "2022-11-15T14:01:53.808842Z"
    },
    "papermill": {
     "duration": 0.038668,
     "end_time": "2022-11-15T14:01:53.812887",
     "exception": false,
     "start_time": "2022-11-15T14:01:53.774219",
     "status": "completed"
    },
    "tags": []
   },
   "outputs": [],
   "source": [
    "kaggle_scores['XGBC_custom'] = [0.84967]"
   ]
  },
  {
   "cell_type": "markdown",
   "id": "d94f2c52",
   "metadata": {
    "papermill": {
     "duration": 0.029436,
     "end_time": "2022-11-15T14:01:53.869973",
     "exception": false,
     "start_time": "2022-11-15T14:01:53.840537",
     "status": "completed"
    },
    "tags": []
   },
   "source": [
    "# 6. Summary"
   ]
  },
  {
   "cell_type": "markdown",
   "id": "e86122d7",
   "metadata": {
    "papermill": {
     "duration": 0.02727,
     "end_time": "2022-11-15T14:01:53.924748",
     "exception": false,
     "start_time": "2022-11-15T14:01:53.897478",
     "status": "completed"
    },
    "tags": []
   },
   "source": [
    "We collected some scores for Kaggle dataset and now it's time to chose a leader."
   ]
  },
  {
   "cell_type": "code",
   "execution_count": 55,
   "id": "ade31cf2",
   "metadata": {
    "execution": {
     "iopub.execute_input": "2022-11-15T14:01:53.981705Z",
     "iopub.status.busy": "2022-11-15T14:01:53.981239Z",
     "iopub.status.idle": "2022-11-15T14:01:54.148958Z",
     "shell.execute_reply": "2022-11-15T14:01:54.147611Z"
    },
    "papermill": {
     "duration": 0.199656,
     "end_time": "2022-11-15T14:01:54.152003",
     "exception": false,
     "start_time": "2022-11-15T14:01:53.952347",
     "status": "completed"
    },
    "tags": []
   },
   "outputs": [
    {
     "data": {
      "image/png": "[encoded data removed]",
      "text/plain": [
       "<Figure size 432x288 with 1 Axes>"
      ]
     },
     "metadata": {
      "needs_background": "light"
     },
     "output_type": "display_data"
    }
   ],
   "source": [
    "final_res = pd.DataFrame(kaggle_scores)-0.83 # Results are scaled to better show the differences\n",
    "scores_hist = sns.barplot(data=final_res, orient='h', saturation=0.6)"
   ]
  },
  {
   "cell_type": "code",
   "execution_count": 56,
   "id": "efd32f43",
   "metadata": {
    "execution": {
     "iopub.execute_input": "2022-11-15T14:01:54.211123Z",
     "iopub.status.busy": "2022-11-15T14:01:54.210374Z",
     "iopub.status.idle": "2022-11-15T14:01:54.220918Z",
     "shell.execute_reply": "2022-11-15T14:01:54.219496Z"
    },
    "papermill": {
     "duration": 0.042409,
     "end_time": "2022-11-15T14:01:54.223420",
     "exception": false,
     "start_time": "2022-11-15T14:01:54.181011",
     "status": "completed"
    },
    "tags": []
   },
   "outputs": [
    {
     "name": "stdout",
     "output_type": "stream",
     "text": [
      "As one can see, CatBoost model with custom-encoded data showed the best result [0.85413] with the following parameters:\n"
     ]
    },
    {
     "data": {
      "text/plain": [
       "{'loss_function': 'Logloss',\n",
       " 'min_data_in_leaf': 120,\n",
       " 'depth': 3,\n",
       " 'random_strength': 1,\n",
       " 'iterations': 110,\n",
       " 'learning_rate': 0.079,\n",
       " 'l2_leaf_reg': 0.79,\n",
       " 'grow_policy': 'Lossguide',\n",
       " 'bootstrap_type': 'Bayesian'}"
      ]
     },
     "execution_count": 56,
     "metadata": {},
     "output_type": "execute_result"
    }
   ],
   "source": [
    "keys = [\"cat_features\", \"logging_level\", \"eval_metric\", 'random_state', 'early_stopping_rounds']\n",
    "best_params = cb_optimal.get_params()\n",
    "for key in keys:\n",
    "    del best_params[key]\n",
    "print(f\"As one can see, CatBoost model with custom-encoded data showed the best result {kaggle_scores['CatBoost_custom']} with the following parameters:\")\n",
    "best_params"
   ]
  },
  {
   "cell_type": "code",
   "execution_count": 57,
   "id": "ca2af55a",
   "metadata": {
    "execution": {
     "iopub.execute_input": "2022-11-15T14:01:54.281444Z",
     "iopub.status.busy": "2022-11-15T14:01:54.281074Z",
     "iopub.status.idle": "2022-11-15T14:01:54.301577Z",
     "shell.execute_reply": "2022-11-15T14:01:54.300699Z"
    },
    "papermill": {
     "duration": 0.052652,
     "end_time": "2022-11-15T14:01:54.304175",
     "exception": false,
     "start_time": "2022-11-15T14:01:54.251523",
     "status": "completed"
    },
    "tags": []
   },
   "outputs": [],
   "source": [
    "best_model = cb_optimal\n",
    "submission['Churn'] = best_model.predict_proba(X_cb_valid)[:, 1]\n",
    "submission.to_csv('./submission.csv', index=False)"
   ]
  },
  {
   "cell_type": "code",
   "execution_count": null,
   "id": "756fe1c9",
   "metadata": {
    "papermill": {
     "duration": 0.028084,
     "end_time": "2022-11-15T14:01:54.360276",
     "exception": false,
     "start_time": "2022-11-15T14:01:54.332192",
     "status": "completed"
    },
    "tags": []
   },
   "outputs": [],
   "source": []
  }
 ],
 "metadata": {
  "kernelspec": {
   "display_name": "Python 3",
   "language": "python",
   "name": "python3"
  },
  "language_info": {
   "codemirror_mode": {
    "name": "ipython",
    "version": 3
   },
   "file_extension": ".py",
   "mimetype": "text/x-python",
   "name": "python",
   "nbconvert_exporter": "python",
   "pygments_lexer": "ipython3",
   "version": "3.7.12"
  },
  "papermill": {
   "default_parameters": {},
   "duration": 50.38095,
   "end_time": "2022-11-15T14:01:57.010529",
   "environment_variables": {},
   "exception": null,
   "input_path": "__notebook__.ipynb",
   "output_path": "__notebook__.ipynb",
   "parameters": {},
   "start_time": "2022-11-15T14:01:06.629579",
   "version": "2.3.4"
  }
 },
 "nbformat": 4,
 "nbformat_minor": 5
}
